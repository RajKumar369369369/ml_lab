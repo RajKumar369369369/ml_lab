{
 "cells": [
  {
   "cell_type": "code",
   "execution_count": 206,
   "id": "493a1c7b-f160-46d8-a9fd-d800b8b6a896",
   "metadata": {},
   "outputs": [],
   "source": [
    "import numpy as np\n",
    "import pandas as pd"
   ]
  },
  {
   "cell_type": "code",
   "execution_count": 207,
   "id": "38eb0826-d39f-42fc-82ba-497d0e981cf4",
   "metadata": {},
   "outputs": [
    {
     "data": {
      "text/html": [
       "<div>\n",
       "<style scoped>\n",
       "    .dataframe tbody tr th:only-of-type {\n",
       "        vertical-align: middle;\n",
       "    }\n",
       "\n",
       "    .dataframe tbody tr th {\n",
       "        vertical-align: top;\n",
       "    }\n",
       "\n",
       "    .dataframe thead th {\n",
       "        text-align: right;\n",
       "    }\n",
       "</style>\n",
       "<table border=\"1\" class=\"dataframe\">\n",
       "  <thead>\n",
       "    <tr style=\"text-align: right;\">\n",
       "      <th></th>\n",
       "      <th>TV</th>\n",
       "      <th>Radio</th>\n",
       "      <th>Newspaper</th>\n",
       "      <th>Sales</th>\n",
       "    </tr>\n",
       "  </thead>\n",
       "  <tbody>\n",
       "    <tr>\n",
       "      <th>0</th>\n",
       "      <td>230.1</td>\n",
       "      <td>37.8</td>\n",
       "      <td>69.2</td>\n",
       "      <td>22.1</td>\n",
       "    </tr>\n",
       "    <tr>\n",
       "      <th>1</th>\n",
       "      <td>44.5</td>\n",
       "      <td>39.3</td>\n",
       "      <td>45.1</td>\n",
       "      <td>10.4</td>\n",
       "    </tr>\n",
       "    <tr>\n",
       "      <th>2</th>\n",
       "      <td>17.2</td>\n",
       "      <td>45.9</td>\n",
       "      <td>69.3</td>\n",
       "      <td>12.0</td>\n",
       "    </tr>\n",
       "    <tr>\n",
       "      <th>3</th>\n",
       "      <td>151.5</td>\n",
       "      <td>41.3</td>\n",
       "      <td>58.5</td>\n",
       "      <td>16.5</td>\n",
       "    </tr>\n",
       "    <tr>\n",
       "      <th>4</th>\n",
       "      <td>180.8</td>\n",
       "      <td>10.8</td>\n",
       "      <td>58.4</td>\n",
       "      <td>17.9</td>\n",
       "    </tr>\n",
       "  </tbody>\n",
       "</table>\n",
       "</div>"
      ],
      "text/plain": [
       "      TV  Radio  Newspaper  Sales\n",
       "0  230.1   37.8       69.2   22.1\n",
       "1   44.5   39.3       45.1   10.4\n",
       "2   17.2   45.9       69.3   12.0\n",
       "3  151.5   41.3       58.5   16.5\n",
       "4  180.8   10.8       58.4   17.9"
      ]
     },
     "execution_count": 207,
     "metadata": {},
     "output_type": "execute_result"
    }
   ],
   "source": [
    "df=pd.read_csv(r\"D:\\PycharmProjects\\pythonProject\\ML_LAB\\LAB_1\\advertising.csv\")\n",
    "df.head()"
   ]
  },
  {
   "cell_type": "code",
   "execution_count": 208,
   "id": "f98c43ae-58bd-4819-abb4-22d7be746b3c",
   "metadata": {},
   "outputs": [],
   "source": [
    "X= df[['TV', 'Radio', 'Newspaper']].values"
   ]
  },
  {
   "cell_type": "code",
   "execution_count": 209,
   "id": "194fbfde-731f-41e7-b25f-26eab58e3773",
   "metadata": {},
   "outputs": [],
   "source": [
    "Y_actual=df['Sales'].values"
   ]
  },
  {
   "cell_type": "code",
   "execution_count": 210,
   "id": "bb30c4ea-118c-44af-90c0-62eace52dc71",
   "metadata": {},
   "outputs": [
    {
     "data": {
      "text/plain": [
       "(200, 1)"
      ]
     },
     "execution_count": 210,
     "metadata": {},
     "output_type": "execute_result"
    }
   ],
   "source": [
    "Y_actual=Y_actual.reshape(df.shape[0],-1)\n",
    "Y_actual.shape"
   ]
  },
  {
   "cell_type": "code",
   "execution_count": 211,
   "id": "c463d1ba-716f-46fb-8fbe-0df61fb7be5d",
   "metadata": {},
   "outputs": [
    {
     "data": {
      "text/plain": [
       "(200, 3)"
      ]
     },
     "execution_count": 211,
     "metadata": {},
     "output_type": "execute_result"
    }
   ],
   "source": [
    "X.shape"
   ]
  },
  {
   "cell_type": "code",
   "execution_count": 212,
   "id": "b8b6045e-d1d0-43f6-bc62-0a20a2e31de4",
   "metadata": {},
   "outputs": [
    {
     "data": {
      "text/plain": [
       "(200, 1)"
      ]
     },
     "execution_count": 212,
     "metadata": {},
     "output_type": "execute_result"
    }
   ],
   "source": [
    "f=np.ones((X.shape[0],1))\n",
    "f.shape"
   ]
  },
  {
   "cell_type": "code",
   "execution_count": 213,
   "id": "5a7b2a9e-aea5-42ff-a38e-98042b1da7dc",
   "metadata": {},
   "outputs": [
    {
     "data": {
      "text/plain": [
       "array([[  1. , 230.1,  37.8,  69.2],\n",
       "       [  1. ,  44.5,  39.3,  45.1],\n",
       "       [  1. ,  17.2,  45.9,  69.3],\n",
       "       [  1. , 151.5,  41.3,  58.5],\n",
       "       [  1. , 180.8,  10.8,  58.4]])"
      ]
     },
     "execution_count": 213,
     "metadata": {},
     "output_type": "execute_result"
    }
   ],
   "source": [
    "X=np.hstack((f,X))\n",
    "X[0:5]"
   ]
  },
  {
   "cell_type": "code",
   "execution_count": 214,
   "id": "e41d4a9b-3cf4-4fb7-8268-3f33fb2ebedf",
   "metadata": {},
   "outputs": [
    {
     "data": {
      "text/plain": [
       "(200, 4)"
      ]
     },
     "execution_count": 214,
     "metadata": {},
     "output_type": "execute_result"
    }
   ],
   "source": [
    "X.shape"
   ]
  },
  {
   "cell_type": "code",
   "execution_count": 215,
   "id": "4ffe13d2-ab0d-4b5c-8cb9-d024499e75b7",
   "metadata": {},
   "outputs": [
    {
     "data": {
      "text/plain": [
       "array([[0.58364807],\n",
       "       [0.63845104],\n",
       "       [0.14893963],\n",
       "       [0.2489616 ]])"
      ]
     },
     "execution_count": 215,
     "metadata": {},
     "output_type": "execute_result"
    }
   ],
   "source": [
    "weights=np.random.rand(X.shape[1]).reshape(X.shape[1],1)\n",
    "weights"
   ]
  },
  {
   "cell_type": "code",
   "execution_count": 216,
   "id": "0a022140-3810-4250-af69-c8d394931bc5",
   "metadata": {},
   "outputs": [
    {
     "data": {
      "text/plain": [
       "(200, 1)"
      ]
     },
     "execution_count": 216,
     "metadata": {},
     "output_type": "execute_result"
    }
   ],
   "source": [
    "def y_predicted(X,weights):\n",
    "    return X@weights\n",
    "Y_predict=y_predicted(X,weights)\n",
    "Y_predict.shape"
   ]
  },
  {
   "cell_type": "code",
   "execution_count": 217,
   "id": "a0a799f6-9927-46b7-b61f-07b8f699ea29",
   "metadata": {},
   "outputs": [
    {
     "data": {
      "text/plain": [
       "np.float64(10742.968196015461)"
      ]
     },
     "execution_count": 217,
     "metadata": {},
     "output_type": "execute_result"
    }
   ],
   "source": [
    "def mse_loss(Y_actual,weights):\n",
    "    Y_predict=y_predicted(X,weights)\n",
    "    return np.mean((Y_actual-Y_predict)**2)\n",
    "mse_loss(Y_actual,weights)"
   ]
  },
  {
   "cell_type": "code",
   "execution_count": 218,
   "id": "84e9312b-6d27-464e-ab03-9a5c6ba1cc35",
   "metadata": {},
   "outputs": [],
   "source": [
    "def grad_weights(lis,weights):\n",
    "    gradients=np.sum((((Y_actual[lis]-y_predicted(X[lis],weights)).reshape(1,len(lis))*-1/len(lis)*2)@X[lis]),axis=0)\n",
    "    return gradients.reshape(-1,1)"
   ]
  },
  {
   "cell_type": "code",
   "execution_count": 219,
   "id": "05c82204-2706-4253-b9c2-dead32c0a499",
   "metadata": {},
   "outputs": [
    {
     "data": {
      "text/plain": [
       "'def min_batch_grad_descent_sgd(X,batch_size,Y_actual,weights,learning_rate=0.01):\\n    indexes=np.arange(len(Y_actual))\\n    np.random.shuffle(indexes)\\n    batches=indexes.reshape(-1,batch_size)\\n    for batch in batches:\\n        weights-=learning_rate*grad_weights(batch,weights)\\n        return weights'"
      ]
     },
     "execution_count": 219,
     "metadata": {},
     "output_type": "execute_result"
    }
   ],
   "source": [
    "\"\"\"def min_batch_grad_descent_sgd(X,batch_size,Y_actual,weights,learning_rate=0.01):\n",
    "    indexes=np.arange(len(Y_actual))\n",
    "    np.random.shuffle(indexes)\n",
    "    batches=indexes.reshape(-1,batch_size)\n",
    "    for batch in batches:\n",
    "        weights-=learning_rate*grad_weights(batch,weights)\n",
    "        return weights\"\"\""
   ]
  },
  {
   "cell_type": "code",
   "execution_count": 220,
   "id": "61471589-0de9-4773-b257-d446c6714661",
   "metadata": {},
   "outputs": [
    {
     "data": {
      "text/plain": [
       "'vel1=np.zeros_like(weights)\\ndef min_batch_grad_descent_mom(X,batch_size,Y_actual,weights,learning_rate=0.01,gamma=0.9,velocity=None):\\n    indexes=np.arange(len(Y_actual))\\n    np.random.shuffle(indexes)\\n    batches=indexes.reshape(-1,batch_size)\\n    for batch in batches:\\n        grad=grad_weights(batch,weights)\\n        velocity=gamma*velocity + learning_rate*grad\\n        weights=weights-velocity\\n    return weights,velocity'"
      ]
     },
     "execution_count": 220,
     "metadata": {},
     "output_type": "execute_result"
    }
   ],
   "source": [
    "\"\"\"vel1=np.zeros_like(weights)\n",
    "def min_batch_grad_descent_mom(X,batch_size,Y_actual,weights,learning_rate=0.01,gamma=0.9,velocity=None):\n",
    "    indexes=np.arange(len(Y_actual))\n",
    "    np.random.shuffle(indexes)\n",
    "    batches=indexes.reshape(-1,batch_size)\n",
    "    for batch in batches:\n",
    "        grad=grad_weights(batch,weights)\n",
    "        velocity=gamma*velocity + learning_rate*grad\n",
    "        weights=weights-velocity\n",
    "    return weights,velocity\"\"\""
   ]
  },
  {
   "cell_type": "code",
   "execution_count": 221,
   "id": "57c0b65d-84af-49fb-932e-d57bd7443d55",
   "metadata": {},
   "outputs": [
    {
     "data": {
      "text/plain": [
       "'vel2=np.zeros_like(weights)\\ndef min_batch_grad_descent_nag(X,batch_size,Y_actual,weights,learning_rate=0.01,gamma=0.9,velocity=None):\\n    indexes=np.arange(len(Y_actual))\\n    np.random.shuffle(indexes)\\n    batches=indexes.reshape(-1,batch_size)\\n    for batch in batches:\\n        lookahead=weights-gamma*velocity\\n        grad=grad_weights(batch,lookahead)       \\n        velocity=gamma*velocity+learning_rate*grad\\n        weights=weights-velocity\\n        return weights,velocity'"
      ]
     },
     "execution_count": 221,
     "metadata": {},
     "output_type": "execute_result"
    }
   ],
   "source": [
    "\"\"\"vel2=np.zeros_like(weights)\n",
    "def min_batch_grad_descent_nag(X,batch_size,Y_actual,weights,learning_rate=0.01,gamma=0.9,velocity=None):\n",
    "    indexes=np.arange(len(Y_actual))\n",
    "    np.random.shuffle(indexes)\n",
    "    batches=indexes.reshape(-1,batch_size)\n",
    "    for batch in batches:\n",
    "        lookahead=weights-gamma*velocity\n",
    "        grad=grad_weights(batch,lookahead)       \n",
    "        velocity=gamma*velocity+learning_rate*grad\n",
    "        weights=weights-velocity\n",
    "        return weights,velocity\"\"\"\n",
    "        "
   ]
  },
  {
   "cell_type": "code",
   "execution_count": 222,
   "id": "fd2d31a7-4a6b-4a76-9c78-40a819e813db",
   "metadata": {},
   "outputs": [
    {
     "data": {
      "text/plain": [
       "'gamma=0.9\\nfor i in range(100):\\n    print(f\"epoch {i} loss: {mse_loss(Y_actual,weights)}, weights:{weights}\")\\n    weights,velocity=min_batch_grad_descent(X,10,Y_actual,weights,learning_rate=0.0000001,gamma=0.9,velocity=vel)'"
      ]
     },
     "execution_count": 222,
     "metadata": {},
     "output_type": "execute_result"
    }
   ],
   "source": [
    "\"\"\"gamma=0.9\n",
    "for i in range(100):\n",
    "    print(f\"epoch {i} loss: {mse_loss(Y_actual,weights)}, weights:{weights}\")\n",
    "    weights,velocity=min_batch_grad_descent(X,10,Y_actual,weights,learning_rate=0.0000001,gamma=0.9,velocity=vel)\"\"\""
   ]
  },
  {
   "cell_type": "code",
   "execution_count": 223,
   "id": "482214c6-b202-4f72-b923-83162be00fe9",
   "metadata": {},
   "outputs": [],
   "source": [
    "# SGD\n",
    "def min_batch_grad_descent_sgd(X,batch_size,Y_actual,weights,learning_rate=0.01):\n",
    "    indexes=np.arange(len(Y_actual))\n",
    "    np.random.shuffle(indexes)\n",
    "    batches=indexes.reshape(-1,batch_size)\n",
    "    for batch in batches:\n",
    "        weights -= learning_rate*grad_weights(batch,weights)\n",
    "    return weights\n",
    "\n",
    "\n",
    "# Momentum\n",
    "def min_batch_grad_descent_mom(X,batch_size,Y_actual,weights,learning_rate=0.01,gamma=0.9,velocity=None):\n",
    "    if velocity is None:\n",
    "        velocity=np.zeros_like(weights)\n",
    "    indexes=np.arange(len(Y_actual))\n",
    "    np.random.shuffle(indexes)\n",
    "    batches=indexes.reshape(-1,batch_size)\n",
    "    for batch in batches:\n",
    "        grad=grad_weights(batch,weights)\n",
    "        velocity = gamma*velocity + learning_rate*grad\n",
    "        weights  = weights - velocity\n",
    "    return weights,velocity\n",
    "\n",
    "\n",
    "# NAG\n",
    "def min_batch_grad_descent_nag(X,batch_size,Y_actual,weights,learning_rate=0.01,gamma=0.9,velocity=None):\n",
    "    if velocity is None:\n",
    "        velocity=np.zeros_like(weights)\n",
    "    indexes=np.arange(len(Y_actual))\n",
    "    np.random.shuffle(indexes)\n",
    "    batches=indexes.reshape(-1,batch_size)\n",
    "    for batch in batches:\n",
    "        lookahead = weights - gamma*velocity\n",
    "        grad      = grad_weights(batch,lookahead)\n",
    "        velocity  = gamma*velocity + learning_rate*grad\n",
    "        weights   = weights - velocity\n",
    "    return weights,velocity\n"
   ]
  },
  {
   "cell_type": "code",
   "execution_count": 224,
   "id": "7aebf74b-559b-48b9-a042-de2fd131c53c",
   "metadata": {},
   "outputs": [
    {
     "data": {
      "image/png": "[encoded data removed]",
      "text/plain": [
       "<Figure size 640x480 with 1 Axes>"
      ]
     },
     "metadata": {},
     "output_type": "display_data"
    }
   ],
   "source": [
    "import matplotlib.pyplot as plt\n",
    "\n",
    "epochs = 50\n",
    "batch_size = 10\n",
    "\n",
    "# --- SGD ---\n",
    "w_sgd = weights.copy()\n",
    "losses_sgd = []\n",
    "for i in range(epochs):\n",
    "    loss = mse_loss(Y_actual,w_sgd)\n",
    "    losses_sgd.append(loss)\n",
    "    w_sgd = min_batch_grad_descent_sgd(X,batch_size,Y_actual,w_sgd,learning_rate=0.0000001)\n",
    "\n",
    "# --- Momentum ---\n",
    "w_mom = weights.copy()\n",
    "vel_mom = np.zeros_like(weights)\n",
    "losses_mom = []\n",
    "for i in range(epochs):\n",
    "    loss = mse_loss(Y_actual,w_mom)\n",
    "    losses_mom.append(loss)\n",
    "    w_mom, vel_mom = min_batch_grad_descent_mom(X,batch_size,Y_actual,w_mom,learning_rate=0.0000001,gamma=0.9,velocity=vel_mom)\n",
    "\n",
    "# --- NAG ---\n",
    "w_nag = weights.copy()\n",
    "vel_nag = np.zeros_like(weights)\n",
    "losses_nag = []\n",
    "for i in range(epochs):\n",
    "    loss = mse_loss(Y_actual,w_nag)\n",
    "    losses_nag.append(loss)\n",
    "    w_nag, vel_nag = min_batch_grad_descent_nag(X,batch_size,Y_actual,w_nag,learning_rate=0.0000001,gamma=0.9,velocity=vel_nag)\n",
    "\n",
    "# --- Plot ---\n",
    "plt.plot(losses_sgd,label=\"SGD\")\n",
    "plt.plot(losses_mom,label=\"Momentum\")\n",
    "plt.plot(losses_nag,label=\"NAG\")\n",
    "plt.xlabel(\"Epochs\")\n",
    "plt.ylabel(\"Loss\")\n",
    "plt.legend()\n",
    "plt.title(\"Optimizer Comparison\")\n",
    "plt.show()\n"
   ]
  },
  {
   "cell_type": "code",
   "execution_count": null,
   "id": "6fab2c69-4290-4893-be00-61061c5c67c2",
   "metadata": {},
   "outputs": [],
   "source": []
  },
  {
   "cell_type": "code",
   "execution_count": null,
   "id": "49d50372-9744-4ac5-bb31-d33f66a2c7e1",
   "metadata": {},
   "outputs": [],
   "source": []
  }
 ],
 "metadata": {
  "kernelspec": {
   "display_name": "Python 3 (ipykernel)",
   "language": "python",
   "name": "python3"
  },
  "language_info": {
   "codemirror_mode": {
    "name": "ipython",
    "version": 3
   },
   "file_extension": ".py",
   "mimetype": "text/x-python",
   "name": "python",
   "nbconvert_exporter": "python",
   "pygments_lexer": "ipython3",
   "version": "3.12.3"
  }
 },
 "nbformat": 4,
 "nbformat_minor": 5
}
