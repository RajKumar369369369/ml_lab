{
 "cells": [
  {
   "cell_type": "code",
   "execution_count": 1,
   "id": "23d24d65-3ba6-40ab-8433-2ce3db3e0b2c",
   "metadata": {},
   "outputs": [
    {
     "data": {
      "text/html": [
       "<div>\n",
       "<style scoped>\n",
       "    .dataframe tbody tr th:only-of-type {\n",
       "        vertical-align: middle;\n",
       "    }\n",
       "\n",
       "    .dataframe tbody tr th {\n",
       "        vertical-align: top;\n",
       "    }\n",
       "\n",
       "    .dataframe thead th {\n",
       "        text-align: right;\n",
       "    }\n",
       "</style>\n",
       "<table border=\"1\" class=\"dataframe\">\n",
       "  <thead>\n",
       "    <tr style=\"text-align: right;\">\n",
       "      <th></th>\n",
       "      <th>TV</th>\n",
       "      <th>Radio</th>\n",
       "      <th>Newspaper</th>\n",
       "      <th>Sales</th>\n",
       "    </tr>\n",
       "  </thead>\n",
       "  <tbody>\n",
       "    <tr>\n",
       "      <th>0</th>\n",
       "      <td>230.1</td>\n",
       "      <td>37.8</td>\n",
       "      <td>69.2</td>\n",
       "      <td>22.1</td>\n",
       "    </tr>\n",
       "    <tr>\n",
       "      <th>1</th>\n",
       "      <td>44.5</td>\n",
       "      <td>39.3</td>\n",
       "      <td>45.1</td>\n",
       "      <td>10.4</td>\n",
       "    </tr>\n",
       "    <tr>\n",
       "      <th>2</th>\n",
       "      <td>17.2</td>\n",
       "      <td>45.9</td>\n",
       "      <td>69.3</td>\n",
       "      <td>12.0</td>\n",
       "    </tr>\n",
       "    <tr>\n",
       "      <th>3</th>\n",
       "      <td>151.5</td>\n",
       "      <td>41.3</td>\n",
       "      <td>58.5</td>\n",
       "      <td>16.5</td>\n",
       "    </tr>\n",
       "    <tr>\n",
       "      <th>4</th>\n",
       "      <td>180.8</td>\n",
       "      <td>10.8</td>\n",
       "      <td>58.4</td>\n",
       "      <td>17.9</td>\n",
       "    </tr>\n",
       "  </tbody>\n",
       "</table>\n",
       "</div>"
      ],
      "text/plain": [
       "      TV  Radio  Newspaper  Sales\n",
       "0  230.1   37.8       69.2   22.1\n",
       "1   44.5   39.3       45.1   10.4\n",
       "2   17.2   45.9       69.3   12.0\n",
       "3  151.5   41.3       58.5   16.5\n",
       "4  180.8   10.8       58.4   17.9"
      ]
     },
     "execution_count": 1,
     "metadata": {},
     "output_type": "execute_result"
    }
   ],
   "source": [
    "import numpy as np\n",
    "import pandas as pd\n",
    "df=pd.read_csv(r\"D:\\PycharmProjects\\pythonProject\\U23AI113\\ML_lAB\\LAB_3\\advertising.csv\")\n",
    "df.head()"
   ]
  },
  {
   "cell_type": "code",
   "execution_count": 2,
   "id": "fd06c526-f027-4f15-8215-ed18cc238008",
   "metadata": {},
   "outputs": [
    {
     "data": {
      "text/plain": [
       "Index(['TV', 'Radio', 'Newspaper', 'Sales'], dtype='object')"
      ]
     },
     "execution_count": 2,
     "metadata": {},
     "output_type": "execute_result"
    }
   ],
   "source": [
    "df.columns\n",
    "#df_new=df["
   ]
  },
  {
   "cell_type": "code",
   "execution_count": 3,
   "id": "0026775b-017a-464c-b723-adabaeee0013",
   "metadata": {},
   "outputs": [
    {
     "data": {
      "text/html": [
       "<div>\n",
       "<style scoped>\n",
       "    .dataframe tbody tr th:only-of-type {\n",
       "        vertical-align: middle;\n",
       "    }\n",
       "\n",
       "    .dataframe tbody tr th {\n",
       "        vertical-align: top;\n",
       "    }\n",
       "\n",
       "    .dataframe thead th {\n",
       "        text-align: right;\n",
       "    }\n",
       "</style>\n",
       "<table border=\"1\" class=\"dataframe\">\n",
       "  <thead>\n",
       "    <tr style=\"text-align: right;\">\n",
       "      <th></th>\n",
       "      <th>TV</th>\n",
       "      <th>Radio</th>\n",
       "      <th>Newspaper</th>\n",
       "    </tr>\n",
       "  </thead>\n",
       "  <tbody>\n",
       "    <tr>\n",
       "      <th>0</th>\n",
       "      <td>230.1</td>\n",
       "      <td>37.8</td>\n",
       "      <td>69.2</td>\n",
       "    </tr>\n",
       "    <tr>\n",
       "      <th>1</th>\n",
       "      <td>44.5</td>\n",
       "      <td>39.3</td>\n",
       "      <td>45.1</td>\n",
       "    </tr>\n",
       "    <tr>\n",
       "      <th>2</th>\n",
       "      <td>17.2</td>\n",
       "      <td>45.9</td>\n",
       "      <td>69.3</td>\n",
       "    </tr>\n",
       "    <tr>\n",
       "      <th>3</th>\n",
       "      <td>151.5</td>\n",
       "      <td>41.3</td>\n",
       "      <td>58.5</td>\n",
       "    </tr>\n",
       "    <tr>\n",
       "      <th>4</th>\n",
       "      <td>180.8</td>\n",
       "      <td>10.8</td>\n",
       "      <td>58.4</td>\n",
       "    </tr>\n",
       "  </tbody>\n",
       "</table>\n",
       "</div>"
      ],
      "text/plain": [
       "      TV  Radio  Newspaper\n",
       "0  230.1   37.8       69.2\n",
       "1   44.5   39.3       45.1\n",
       "2   17.2   45.9       69.3\n",
       "3  151.5   41.3       58.5\n",
       "4  180.8   10.8       58.4"
      ]
     },
     "execution_count": 3,
     "metadata": {},
     "output_type": "execute_result"
    }
   ],
   "source": [
    "df_new=df[['TV', 'Radio', 'Newspaper']]\n",
    "df_new.head()"
   ]
  },
  {
   "cell_type": "code",
   "execution_count": 11,
   "id": "6453c94d-008d-4b8c-93bc-053cc6126a9d",
   "metadata": {},
   "outputs": [
    {
     "data": {
      "text/plain": [
       "TV           147.0425\n",
       "Radio         23.2640\n",
       "Newspaper     30.5540\n",
       "dtype: float64"
      ]
     },
     "execution_count": 11,
     "metadata": {},
     "output_type": "execute_result"
    }
   ],
   "source": [
    "m=df_new.mean()\n",
    "m"
   ]
  },
  {
   "cell_type": "code",
   "execution_count": 5,
   "id": "e185b6c8-fac4-464c-a8d0-57bc46aed21f",
   "metadata": {},
   "outputs": [],
   "source": [
    "df_n=df_new.values"
   ]
  },
  {
   "cell_type": "code",
   "execution_count": 6,
   "id": "e80a6d87-d72c-493b-9756-258f0fca10a4",
   "metadata": {},
   "outputs": [
    {
     "data": {
      "text/plain": [
       "array([[230.1,  37.8,  69.2],\n",
       "       [ 44.5,  39.3,  45.1],\n",
       "       [ 17.2,  45.9,  69.3],\n",
       "       [151.5,  41.3,  58.5],\n",
       "       [180.8,  10.8,  58.4]])"
      ]
     },
     "execution_count": 6,
     "metadata": {},
     "output_type": "execute_result"
    }
   ],
   "source": [
    "df_n[0:5]"
   ]
  },
  {
   "cell_type": "code",
   "execution_count": 8,
   "id": "efe324c9-f604-442e-b901-047f5be759af",
   "metadata": {},
   "outputs": [
    {
     "data": {
      "text/plain": [
       "(200,)"
      ]
     },
     "execution_count": 8,
     "metadata": {},
     "output_type": "execute_result"
    }
   ],
   "source": [
    "mean=np.mean(df_n,axis=1)\n",
    "mean.shape"
   ]
  },
  {
   "cell_type": "code",
   "execution_count": 9,
   "id": "31c4212f-4746-447e-b240-4611686b099d",
   "metadata": {},
   "outputs": [
    {
     "data": {
      "text/plain": [
       "array([147.0425,  23.264 ,  30.554 ])"
      ]
     },
     "execution_count": 9,
     "metadata": {},
     "output_type": "execute_result"
    }
   ],
   "source": [
    "mean=np.mean(df_n,axis=0)\n",
    "mean"
   ]
  },
  {
   "cell_type": "code",
   "execution_count": 12,
   "id": "12e17692-4298-4705-984b-e4514a9a2e27",
   "metadata": {},
   "outputs": [
    {
     "data": {
      "text/plain": [
       "(3,)"
      ]
     },
     "execution_count": 12,
     "metadata": {},
     "output_type": "execute_result"
    }
   ],
   "source": [
    "mean.shape"
   ]
  },
  {
   "cell_type": "code",
   "execution_count": 13,
   "id": "811b0533-53f5-40c9-9b36-aed975c6dd4b",
   "metadata": {},
   "outputs": [
    {
     "data": {
      "text/plain": [
       "array([[  83.0575,   14.536 ,   38.646 ],\n",
       "       [-102.5425,   16.036 ,   14.546 ],\n",
       "       [-129.8425,   22.636 ,   38.746 ],\n",
       "       [   4.4575,   18.036 ,   27.946 ],\n",
       "       [  33.7575,  -12.464 ,   27.846 ]])"
      ]
     },
     "execution_count": 13,
     "metadata": {},
     "output_type": "execute_result"
    }
   ],
   "source": [
    "df_nn=df_n-mean\n",
    "df_nn[0:5]"
   ]
  },
  {
   "cell_type": "code",
   "execution_count": 14,
   "id": "86c961f3-0541-4209-9dea-0e852a57fc83",
   "metadata": {},
   "outputs": [
    {
     "data": {
      "text/plain": [
       "(3, 3)"
      ]
     },
     "execution_count": 14,
     "metadata": {},
     "output_type": "execute_result"
    }
   ],
   "source": [
    "C=df_nn.T@df_nn\n",
    "C.shape"
   ]
  },
  {
   "cell_type": "code",
   "execution_count": 15,
   "id": "be566334-76df-4ee4-a47f-eea904e43089",
   "metadata": {},
   "outputs": [
    {
     "data": {
      "text/plain": [
       "array([[1466819.02875,   13902.636  ,   21077.971  ],\n",
       "       [  13902.636  ,   43865.1208 ,   22784.8988 ],\n",
       "       [  21077.971  ,   22784.8988 ,   94387.3568 ]])"
      ]
     },
     "execution_count": 15,
     "metadata": {},
     "output_type": "execute_result"
    }
   ],
   "source": [
    "C"
   ]
  },
  {
   "cell_type": "code",
   "execution_count": 16,
   "id": "dd76d8b6-61ac-4fec-83dd-6049259aaba8",
   "metadata": {},
   "outputs": [
    {
     "data": {
      "text/plain": [
       "array([  35086.87584252,  102699.24856486, 1467285.38194262])"
      ]
     },
     "execution_count": 16,
     "metadata": {},
     "output_type": "execute_result"
    }
   ],
   "source": [
    "eigvals,eigvecs = np.linalg.eigh(C)\n",
    "eigvals"
   ]
  },
  {
   "cell_type": "code",
   "execution_count": 17,
   "id": "e016fbee-e618-4735-ba62-2efd1299caf5",
   "metadata": {},
   "outputs": [
    {
     "data": {
      "text/html": [
       "<div>\n",
       "<style scoped>\n",
       "    .dataframe tbody tr th:only-of-type {\n",
       "        vertical-align: middle;\n",
       "    }\n",
       "\n",
       "    .dataframe tbody tr th {\n",
       "        vertical-align: top;\n",
       "    }\n",
       "\n",
       "    .dataframe thead th {\n",
       "        text-align: right;\n",
       "    }\n",
       "</style>\n",
       "<table border=\"1\" class=\"dataframe\">\n",
       "  <thead>\n",
       "    <tr style=\"text-align: right;\">\n",
       "      <th></th>\n",
       "      <th>TV</th>\n",
       "      <th>Radio</th>\n",
       "      <th>Newspaper</th>\n",
       "    </tr>\n",
       "  </thead>\n",
       "  <tbody>\n",
       "    <tr>\n",
       "      <th>TV</th>\n",
       "      <td>1.000000</td>\n",
       "      <td>0.054809</td>\n",
       "      <td>0.056648</td>\n",
       "    </tr>\n",
       "    <tr>\n",
       "      <th>Radio</th>\n",
       "      <td>0.054809</td>\n",
       "      <td>1.000000</td>\n",
       "      <td>0.354104</td>\n",
       "    </tr>\n",
       "    <tr>\n",
       "      <th>Newspaper</th>\n",
       "      <td>0.056648</td>\n",
       "      <td>0.354104</td>\n",
       "      <td>1.000000</td>\n",
       "    </tr>\n",
       "  </tbody>\n",
       "</table>\n",
       "</div>"
      ],
      "text/plain": [
       "                 TV     Radio  Newspaper\n",
       "TV         1.000000  0.054809   0.056648\n",
       "Radio      0.054809  1.000000   0.354104\n",
       "Newspaper  0.056648  0.354104   1.000000"
      ]
     },
     "execution_count": 17,
     "metadata": {},
     "output_type": "execute_result"
    }
   ],
   "source": [
    "corr_matrix = df_new.corr()\n",
    "corr_matrix"
   ]
  },
  {
   "cell_type": "code",
   "execution_count": 19,
   "id": "cb83639e-ac81-45dd-b343-a3c66db9064f",
   "metadata": {},
   "outputs": [
    {
     "data": {
      "text/html": [
       "<div>\n",
       "<style scoped>\n",
       "    .dataframe tbody tr th:only-of-type {\n",
       "        vertical-align: middle;\n",
       "    }\n",
       "\n",
       "    .dataframe tbody tr th {\n",
       "        vertical-align: top;\n",
       "    }\n",
       "\n",
       "    .dataframe thead th {\n",
       "        text-align: right;\n",
       "    }\n",
       "</style>\n",
       "<table border=\"1\" class=\"dataframe\">\n",
       "  <thead>\n",
       "    <tr style=\"text-align: right;\">\n",
       "      <th></th>\n",
       "      <th>0</th>\n",
       "      <th>1</th>\n",
       "      <th>2</th>\n",
       "    </tr>\n",
       "  </thead>\n",
       "  <tbody>\n",
       "    <tr>\n",
       "      <th>0</th>\n",
       "      <td>1.000000</td>\n",
       "      <td>0.054809</td>\n",
       "      <td>0.056648</td>\n",
       "    </tr>\n",
       "    <tr>\n",
       "      <th>1</th>\n",
       "      <td>0.054809</td>\n",
       "      <td>1.000000</td>\n",
       "      <td>0.354104</td>\n",
       "    </tr>\n",
       "    <tr>\n",
       "      <th>2</th>\n",
       "      <td>0.056648</td>\n",
       "      <td>0.354104</td>\n",
       "      <td>1.000000</td>\n",
       "    </tr>\n",
       "  </tbody>\n",
       "</table>\n",
       "</div>"
      ],
      "text/plain": [
       "          0         1         2\n",
       "0  1.000000  0.054809  0.056648\n",
       "1  0.054809  1.000000  0.354104\n",
       "2  0.056648  0.354104  1.000000"
      ]
     },
     "execution_count": 19,
     "metadata": {},
     "output_type": "execute_result"
    }
   ],
   "source": [
    "corr_matrix = pd.DataFrame(df_nn).corr()\n",
    "corr_matrix"
   ]
  },
  {
   "cell_type": "code",
   "execution_count": 20,
   "id": "ddbc0947-6591-450d-ae20-bf2aa54c4427",
   "metadata": {},
   "outputs": [
    {
     "data": {
      "text/plain": [
       "array([[ 0.00380577, -0.01807077, -0.99982947],\n",
       "       [-0.93391214,  0.35736234, -0.01001377],\n",
       "       [ 0.35748236,  0.93379098, -0.01551648]])"
      ]
     },
     "execution_count": 20,
     "metadata": {},
     "output_type": "execute_result"
    }
   ],
   "source": [
    "eigvecs"
   ]
  },
  {
   "cell_type": "code",
   "execution_count": 22,
   "id": "6a54b214-51bf-4989-80ab-c9edc3d668ad",
   "metadata": {},
   "outputs": [
    {
     "data": {
      "text/plain": [
       "array([2, 1, 0])"
      ]
     },
     "execution_count": 22,
     "metadata": {},
     "output_type": "execute_result"
    }
   ],
   "source": [
    "order = np.argsort(eigvals)[::-1]#why always increasing order\n",
    "order"
   ]
  },
  {
   "cell_type": "code",
   "execution_count": 23,
   "id": "77819c44-2c4c-4715-ad34-886ab7c69f2f",
   "metadata": {},
   "outputs": [
    {
     "data": {
      "text/plain": [
       "array([1467285.38194262,  102699.24856486,   35086.87584252])"
      ]
     },
     "execution_count": 23,
     "metadata": {},
     "output_type": "execute_result"
    }
   ],
   "source": [
    "eigvals=eigvals[order]\n",
    "eigvals"
   ]
  },
  {
   "cell_type": "code",
   "execution_count": 25,
   "id": "1751853e-501c-4699-afce-028023687195",
   "metadata": {},
   "outputs": [
    {
     "data": {
      "text/plain": [
       "array([[-0.99982947, -0.01807077,  0.00380577],\n",
       "       [-0.01001377,  0.35736234, -0.93391214],\n",
       "       [-0.01551648,  0.93379098,  0.35748236]])"
      ]
     },
     "execution_count": 25,
     "metadata": {},
     "output_type": "execute_result"
    }
   ],
   "source": [
    "eigvecs=eigvecs[:,order]\n",
    "eigvecs"
   ]
  },
  {
   "cell_type": "code",
   "execution_count": 30,
   "id": "09fb6c2d-7b97-4762-94d1-931e741a1cb9",
   "metadata": {},
   "outputs": [],
   "source": [
    "def recon_error_n(n):\n",
    "    E=eigvecs[:,:n]\n",
    "    Wproj=df_nn @ E\n",
    "    L=Wproj@E.T\n",
    "    R=L+mean\n",
    "    sse=np.sum((df_nn-R)**2)\n",
    "    mse_per_entry = sse/df_nn.shape[0] * df_nn.shape[1]\n",
    "    explained = np.sum(eigvals[:n])/np.sum(eigvals)\n",
    "    return sse, mse_per_entry,explained\n"
   ]
  },
  {
   "cell_type": "code",
   "execution_count": 31,
   "id": "693ee4ae-fa6e-4d3a-8bda-8105bc68c2b6",
   "metadata": {},
   "outputs": [],
   "source": [
    "import pandas as pd\n",
    "rows = []\n",
    "for n in range(1, df_nn.shape[1] + 1):\n",
    "    sse, mse, exp = recon_error_n(n)\n",
    "    rows.append({\"n_components\": n,\n",
    "                 \"SSE\": sse,\n",
    "                 \"MSE_per_entry\": mse,\n",
    "                 \"Explained_Variance(%)\": 100 * exp})\n",
    "\n",
    "df = pd.DataFrame(rows)"
   ]
  },
  {
   "cell_type": "code",
   "execution_count": 32,
   "id": "e98a2007-a658-4c37-bf39-9afbe4e38228",
   "metadata": {},
   "outputs": [
    {
     "data": {
      "text/html": [
       "<div>\n",
       "<style scoped>\n",
       "    .dataframe tbody tr th:only-of-type {\n",
       "        vertical-align: middle;\n",
       "    }\n",
       "\n",
       "    .dataframe tbody tr th {\n",
       "        vertical-align: top;\n",
       "    }\n",
       "\n",
       "    .dataframe thead th {\n",
       "        text-align: right;\n",
       "    }\n",
       "</style>\n",
       "<table border=\"1\" class=\"dataframe\">\n",
       "  <thead>\n",
       "    <tr style=\"text-align: right;\">\n",
       "      <th></th>\n",
       "      <th>n_components</th>\n",
       "      <th>SSE</th>\n",
       "      <th>MSE_per_entry</th>\n",
       "      <th>Explained_Variance(%)</th>\n",
       "    </tr>\n",
       "  </thead>\n",
       "  <tbody>\n",
       "    <tr>\n",
       "      <th>0</th>\n",
       "      <td>1</td>\n",
       "      <td>4.757038e+06</td>\n",
       "      <td>71355.564121</td>\n",
       "      <td>91.415577</td>\n",
       "    </tr>\n",
       "    <tr>\n",
       "      <th>1</th>\n",
       "      <td>2</td>\n",
       "      <td>4.654338e+06</td>\n",
       "      <td>69815.075392</td>\n",
       "      <td>97.813999</td>\n",
       "    </tr>\n",
       "    <tr>\n",
       "      <th>2</th>\n",
       "      <td>3</td>\n",
       "      <td>4.619251e+06</td>\n",
       "      <td>69288.772255</td>\n",
       "      <td>100.000000</td>\n",
       "    </tr>\n",
       "  </tbody>\n",
       "</table>\n",
       "</div>"
      ],
      "text/plain": [
       "   n_components           SSE  MSE_per_entry  Explained_Variance(%)\n",
       "0             1  4.757038e+06   71355.564121              91.415577\n",
       "1             2  4.654338e+06   69815.075392              97.813999\n",
       "2             3  4.619251e+06   69288.772255             100.000000"
      ]
     },
     "execution_count": 32,
     "metadata": {},
     "output_type": "execute_result"
    }
   ],
   "source": [
    "df"
   ]
  },
  {
   "cell_type": "code",
   "execution_count": null,
   "id": "cb8c5bea-269c-4293-b8f8-492bf4a0bce1",
   "metadata": {},
   "outputs": [
    {
     "data": {
      "text/plain": [
       "('D:\\\\PycharmProjects\\\\pythonProject\\\\U23AI113\\\\ML_lAB\\\\LAB_3\\\\pca_reconstruction_error.png',\n",
       "    n_components           SSE  MSE_per_entry  Explained_Variance(%)\n",
       " 0             1  4.757038e+06   71355.564121              91.415577\n",
       " 1             2  4.654338e+06   69815.075392              97.813999\n",
       " 2             3  4.619251e+06   69288.772255             100.000000)"
      ]
     },
     "execution_count": 36,
     "metadata": {},
     "output_type": "execute_result"
    },
    {
     "data": {
      "image/png": "[encoded data removed]",
      "text/plain": [
       "<Figure size 640x480 with 1 Axes>"
      ]
     },
     "metadata": {},
     "output_type": "display_data"
    }
   ],
   "source": [
    "import matplotlib.pyplot as plt\n",
    "\n",
    "# Create the plot\n",
    "plt.figure()\n",
    "plt.plot(df[\"n_components\"], df[\"MSE_per_entry\"], marker='o')\n",
    "plt.xlabel(\"Number of principal components (n)\")\n",
    "plt.ylabel(\"Reconstruction MSE per entry\")\n",
    "plt.title(\"Reconstruction error vs n (100 points, 3 features)\")\n",
    "plt.grid(True)\n",
    "plt.tight_layout()\n",
    "\n",
    "# Save the plot\n",
    "plot_path = r\"D:\\PycharmProjects\\pythonProject\\U23AI113\\ML_lAB\\LAB_3\\pca_reconstruction_error.png\"\n",
    "plt.savefig(plot_path)\n",
    "\n",
    "# Display both outputs\n",
    "plot_path, df.head()"
   ]
  },
  {
   "cell_type": "code",
   "execution_count": 39,
   "id": "4d9c2ea0-297d-4a9c-ad13-14beb06c7340",
   "metadata": {},
   "outputs": [
    {
     "data": {
      "text/plain": [
       "array([[230.1,  37.8,  69.2],\n",
       "       [ 44.5,  39.3,  45.1],\n",
       "       [ 17.2,  45.9,  69.3],\n",
       "       [151.5,  41.3,  58.5],\n",
       "       [180.8,  10.8,  58.4]])"
      ]
     },
     "execution_count": 39,
     "metadata": {},
     "output_type": "execute_result"
    }
   ],
   "source": [
    "E=eigvecs[:,:1]\n",
    "Wproj=df_nn @ E\n",
    "L=Wproj@E.T\n",
    "R=L+mean\n",
    "df_n[0:5]"
   ]
  },
  {
   "cell_type": "code",
   "execution_count": 38,
   "id": "bac29613-c131-48bd-9bca-637ed04423dd",
   "metadata": {},
   "outputs": [
    {
     "data": {
      "text/plain": [
       "array([[230.81675719,  24.10303943,  31.85410296],\n",
       "       [ 44.92118839,  22.24120601,  28.96916685],\n",
       "       [ 18.07201301,  21.97229862,  28.55249121],\n",
       "       [152.11260692,  23.31477956,  30.63268361],\n",
       "       [181.09569519,  23.60505911,  31.08247571]])"
      ]
     },
     "execution_count": 38,
     "metadata": {},
     "output_type": "execute_result"
    }
   ],
   "source": [
    "R[0:5]"
   ]
  },
  {
   "cell_type": "code",
   "execution_count": 40,
   "id": "50aa06c4-32e2-4307-9d26-177589fe50f8",
   "metadata": {},
   "outputs": [
    {
     "data": {
      "text/plain": [
       "array([[230.1,  37.8,  69.2],\n",
       "       [ 44.5,  39.3,  45.1],\n",
       "       [ 17.2,  45.9,  69.3],\n",
       "       [151.5,  41.3,  58.5],\n",
       "       [180.8,  10.8,  58.4]])"
      ]
     },
     "execution_count": 40,
     "metadata": {},
     "output_type": "execute_result"
    }
   ],
   "source": [
    "E=eigvecs[:,:2]\n",
    "Wproj=df_nn @ E\n",
    "L=Wproj@E.T\n",
    "R=L+mean\n",
    "df_n[0:5]"
   ]
  },
  {
   "cell_type": "code",
   "execution_count": 41,
   "id": "62d77d32-54a8-49c4-8f30-2c8bd099ad85",
   "metadata": {},
   "outputs": [
    {
     "data": {
      "text/plain": [
       "array([[230.09788394,  38.319268  ,  69.00123489],\n",
       "       [ 44.53869143,  29.80535476,  48.73435491],\n",
       "       [ 17.22962094,  38.6311994 ,  72.08234736],\n",
       "       [151.52601954,  34.91496118,  60.94406153],\n",
       "       [180.71732655,  31.08756738,  50.63433649]])"
      ]
     },
     "execution_count": 41,
     "metadata": {},
     "output_type": "execute_result"
    }
   ],
   "source": [
    "R[0:5]"
   ]
  },
  {
   "cell_type": "code",
   "execution_count": null,
   "id": "ffe87500-d7a7-4f19-9e88-c2dab65625eb",
   "metadata": {},
   "outputs": [],
   "source": []
  }
 ],
 "metadata": {
  "kernelspec": {
   "display_name": "Python 3 (ipykernel)",
   "language": "python",
   "name": "python3"
  },
  "language_info": {
   "codemirror_mode": {
    "name": "ipython",
    "version": 3
   },
   "file_extension": ".py",
   "mimetype": "text/x-python",
   "name": "python",
   "nbconvert_exporter": "python",
   "pygments_lexer": "ipython3",
   "version": "3.12.3"
  }
 },
 "nbformat": 4,
 "nbformat_minor": 5
}
