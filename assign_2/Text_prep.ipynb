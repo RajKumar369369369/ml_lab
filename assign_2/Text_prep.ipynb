{
 "cells": [
  {
   "cell_type": "code",
   "execution_count": 1,
   "id": "3ea840d3-7346-46a0-a1a2-9183197168e3",
   "metadata": {},
   "outputs": [],
   "source": [
    "import numpy as np\n",
    "import pandas as pd"
   ]
  },
  {
   "cell_type": "code",
   "execution_count": 5,
   "id": "f4d7cf9e-b488-4632-b9b6-1f9f98f292cd",
   "metadata": {},
   "outputs": [],
   "source": [
    "df = pd.read_csv(r\"D:\\PycharmProjects\\pythonProject\\ML_LAB\\LAB_2\\faa_ai_prelim.csv\")"
   ]
  },
  {
   "cell_type": "code",
   "execution_count": 6,
   "id": "f923fe56-bdcd-4271-b148-87302654d24e",
   "metadata": {},
   "outputs": [
    {
     "data": {
      "text/html": [
       "<div>\n",
       "<style scoped>\n",
       "    .dataframe tbody tr th:only-of-type {\n",
       "        vertical-align: middle;\n",
       "    }\n",
       "\n",
       "    .dataframe tbody tr th {\n",
       "        vertical-align: top;\n",
       "    }\n",
       "\n",
       "    .dataframe thead th {\n",
       "        text-align: right;\n",
       "    }\n",
       "</style>\n",
       "<table border=\"1\" class=\"dataframe\">\n",
       "  <thead>\n",
       "    <tr style=\"text-align: right;\">\n",
       "      <th></th>\n",
       "      <th>UPDATED</th>\n",
       "      <th>ENTRY_DATE</th>\n",
       "      <th>EVENT_LCL_DATE</th>\n",
       "      <th>EVENT_LCL_TIME</th>\n",
       "      <th>LOC_CITY_NAME</th>\n",
       "      <th>LOC_STATE_NAME</th>\n",
       "      <th>LOC_CNTRY_NAME</th>\n",
       "      <th>RMK_TEXT</th>\n",
       "      <th>EVENT_TYPE_DESC</th>\n",
       "      <th>FSDO_DESC</th>\n",
       "      <th>...</th>\n",
       "      <th>PAX_INJ_NONE</th>\n",
       "      <th>PAX_INJ_MINOR</th>\n",
       "      <th>PAX_INJ_SERIOUS</th>\n",
       "      <th>PAX_INJ_FATAL</th>\n",
       "      <th>PAX_INJ_UNK</th>\n",
       "      <th>GRND_INJ_NONE</th>\n",
       "      <th>GRND_INJ_MINOR</th>\n",
       "      <th>GRND_INJ_SERIOUS</th>\n",
       "      <th>GRND_INJ_FATAL</th>\n",
       "      <th>GRND_INJ_UNK</th>\n",
       "    </tr>\n",
       "  </thead>\n",
       "  <tbody>\n",
       "    <tr>\n",
       "      <th>0</th>\n",
       "      <td>No</td>\n",
       "      <td>19-FEB-16</td>\n",
       "      <td>19-FEB-16</td>\n",
       "      <td>00:45:00Z</td>\n",
       "      <td>MARSHVILLE</td>\n",
       "      <td>North Carolina</td>\n",
       "      <td>NaN</td>\n",
       "      <td>AIRCRAFT CRASHED INTO TREES, THE 1 PERSON ON B...</td>\n",
       "      <td>Accident</td>\n",
       "      <td>FAA Charlotte FSDO-68</td>\n",
       "      <td>...</td>\n",
       "      <td>NaN</td>\n",
       "      <td>NaN</td>\n",
       "      <td>NaN</td>\n",
       "      <td>NaN</td>\n",
       "      <td>NaN</td>\n",
       "      <td>NaN</td>\n",
       "      <td>NaN</td>\n",
       "      <td>NaN</td>\n",
       "      <td>NaN</td>\n",
       "      <td>NaN</td>\n",
       "    </tr>\n",
       "    <tr>\n",
       "      <th>1</th>\n",
       "      <td>No</td>\n",
       "      <td>19-FEB-16</td>\n",
       "      <td>18-FEB-16</td>\n",
       "      <td>23:55:00Z</td>\n",
       "      <td>TAVERNIER</td>\n",
       "      <td>Florida</td>\n",
       "      <td>NaN</td>\n",
       "      <td>AIRCRAFT ON LANDING WENT OFF THE END OF THE RU...</td>\n",
       "      <td>Incident</td>\n",
       "      <td>FAA Miami FSDO-19</td>\n",
       "      <td>...</td>\n",
       "      <td>NaN</td>\n",
       "      <td>NaN</td>\n",
       "      <td>NaN</td>\n",
       "      <td>NaN</td>\n",
       "      <td>NaN</td>\n",
       "      <td>NaN</td>\n",
       "      <td>NaN</td>\n",
       "      <td>NaN</td>\n",
       "      <td>NaN</td>\n",
       "      <td>NaN</td>\n",
       "    </tr>\n",
       "    <tr>\n",
       "      <th>2</th>\n",
       "      <td>No</td>\n",
       "      <td>19-FEB-16</td>\n",
       "      <td>18-FEB-16</td>\n",
       "      <td>22:14:00Z</td>\n",
       "      <td>TRENTON</td>\n",
       "      <td>New Jersey</td>\n",
       "      <td>NaN</td>\n",
       "      <td>AIRCRAFT ON FINAL SUSTAINED A BIRD STRIKE, LAN...</td>\n",
       "      <td>Incident</td>\n",
       "      <td>FAA Philadelphia FSDO-17</td>\n",
       "      <td>...</td>\n",
       "      <td>NaN</td>\n",
       "      <td>NaN</td>\n",
       "      <td>NaN</td>\n",
       "      <td>NaN</td>\n",
       "      <td>NaN</td>\n",
       "      <td>NaN</td>\n",
       "      <td>NaN</td>\n",
       "      <td>NaN</td>\n",
       "      <td>NaN</td>\n",
       "      <td>NaN</td>\n",
       "    </tr>\n",
       "    <tr>\n",
       "      <th>3</th>\n",
       "      <td>No</td>\n",
       "      <td>19-FEB-16</td>\n",
       "      <td>18-FEB-16</td>\n",
       "      <td>17:10:00Z</td>\n",
       "      <td>ASHEVILLE</td>\n",
       "      <td>North Carolina</td>\n",
       "      <td>NaN</td>\n",
       "      <td>AIRCRAFT ON LANDING, GEAR COLLAPSED, ASHEVILLE...</td>\n",
       "      <td>Incident</td>\n",
       "      <td>FAA Charlotte FSDO-68</td>\n",
       "      <td>...</td>\n",
       "      <td>NaN</td>\n",
       "      <td>NaN</td>\n",
       "      <td>NaN</td>\n",
       "      <td>NaN</td>\n",
       "      <td>NaN</td>\n",
       "      <td>NaN</td>\n",
       "      <td>NaN</td>\n",
       "      <td>NaN</td>\n",
       "      <td>NaN</td>\n",
       "      <td>NaN</td>\n",
       "    </tr>\n",
       "    <tr>\n",
       "      <th>4</th>\n",
       "      <td>No</td>\n",
       "      <td>19-FEB-16</td>\n",
       "      <td>18-FEB-16</td>\n",
       "      <td>00:26:00Z</td>\n",
       "      <td>TALKEETNA</td>\n",
       "      <td>Alaska</td>\n",
       "      <td>NaN</td>\n",
       "      <td>AIRCRAFT ON LANDING, NOSE GEAR COLLAPSED, TALK...</td>\n",
       "      <td>Incident</td>\n",
       "      <td>FAA Anchorage FSDO-03</td>\n",
       "      <td>...</td>\n",
       "      <td>NaN</td>\n",
       "      <td>1.0</td>\n",
       "      <td>NaN</td>\n",
       "      <td>NaN</td>\n",
       "      <td>NaN</td>\n",
       "      <td>NaN</td>\n",
       "      <td>NaN</td>\n",
       "      <td>NaN</td>\n",
       "      <td>NaN</td>\n",
       "      <td>NaN</td>\n",
       "    </tr>\n",
       "  </tbody>\n",
       "</table>\n",
       "<p>5 rows × 42 columns</p>\n",
       "</div>"
      ],
      "text/plain": [
       "  UPDATED ENTRY_DATE EVENT_LCL_DATE EVENT_LCL_TIME LOC_CITY_NAME  \\\n",
       "0      No  19-FEB-16      19-FEB-16      00:45:00Z    MARSHVILLE   \n",
       "1      No  19-FEB-16      18-FEB-16      23:55:00Z     TAVERNIER   \n",
       "2      No  19-FEB-16      18-FEB-16      22:14:00Z       TRENTON   \n",
       "3      No  19-FEB-16      18-FEB-16      17:10:00Z     ASHEVILLE   \n",
       "4      No  19-FEB-16      18-FEB-16      00:26:00Z     TALKEETNA   \n",
       "\n",
       "   LOC_STATE_NAME LOC_CNTRY_NAME  \\\n",
       "0  North Carolina            NaN   \n",
       "1         Florida            NaN   \n",
       "2      New Jersey            NaN   \n",
       "3  North Carolina            NaN   \n",
       "4          Alaska            NaN   \n",
       "\n",
       "                                            RMK_TEXT EVENT_TYPE_DESC  \\\n",
       "0  AIRCRAFT CRASHED INTO TREES, THE 1 PERSON ON B...        Accident   \n",
       "1  AIRCRAFT ON LANDING WENT OFF THE END OF THE RU...        Incident   \n",
       "2  AIRCRAFT ON FINAL SUSTAINED A BIRD STRIKE, LAN...        Incident   \n",
       "3  AIRCRAFT ON LANDING, GEAR COLLAPSED, ASHEVILLE...        Incident   \n",
       "4  AIRCRAFT ON LANDING, NOSE GEAR COLLAPSED, TALK...        Incident   \n",
       "\n",
       "                  FSDO_DESC  ... PAX_INJ_NONE PAX_INJ_MINOR PAX_INJ_SERIOUS  \\\n",
       "0     FAA Charlotte FSDO-68  ...          NaN           NaN             NaN   \n",
       "1         FAA Miami FSDO-19  ...          NaN           NaN             NaN   \n",
       "2  FAA Philadelphia FSDO-17  ...          NaN           NaN             NaN   \n",
       "3     FAA Charlotte FSDO-68  ...          NaN           NaN             NaN   \n",
       "4     FAA Anchorage FSDO-03  ...          NaN           1.0             NaN   \n",
       "\n",
       "  PAX_INJ_FATAL PAX_INJ_UNK  GRND_INJ_NONE GRND_INJ_MINOR GRND_INJ_SERIOUS  \\\n",
       "0           NaN         NaN            NaN            NaN              NaN   \n",
       "1           NaN         NaN            NaN            NaN              NaN   \n",
       "2           NaN         NaN            NaN            NaN              NaN   \n",
       "3           NaN         NaN            NaN            NaN              NaN   \n",
       "4           NaN         NaN            NaN            NaN              NaN   \n",
       "\n",
       "  GRND_INJ_FATAL  GRND_INJ_UNK  \n",
       "0            NaN           NaN  \n",
       "1            NaN           NaN  \n",
       "2            NaN           NaN  \n",
       "3            NaN           NaN  \n",
       "4            NaN           NaN  \n",
       "\n",
       "[5 rows x 42 columns]"
      ]
     },
     "execution_count": 6,
     "metadata": {},
     "output_type": "execute_result"
    }
   ],
   "source": [
    "df.head()"
   ]
  },
  {
   "cell_type": "code",
   "execution_count": 7,
   "id": "ef0672d1-25d6-400f-81b6-ac52da842afd",
   "metadata": {},
   "outputs": [],
   "source": [
    "df['EVENT_LCL_TIME'] = df['EVENT_LCL_TIME'].str.replace('Z', '', regex=False)\n",
    "df['EVENT_DATETIME'] = pd.to_datetime(df['EVENT_LCL_DATE'] + ' ' + df['EVENT_LCL_TIME'],errors='coerce', format='%d-%b-%y %H:%M:%S')\n"
   ]
  },
  {
   "cell_type": "code",
   "execution_count": 8,
   "id": "f324d104-8f7e-4cf4-a19a-7a4dfc65f2c8",
   "metadata": {},
   "outputs": [
    {
     "data": {
      "text/plain": [
       "0    2016-02-19 00:45:00\n",
       "1    2016-02-18 23:55:00\n",
       "2    2016-02-18 22:14:00\n",
       "3    2016-02-18 17:10:00\n",
       "4    2016-02-18 00:26:00\n",
       "             ...        \n",
       "78   2015-12-31 17:00:00\n",
       "79   2016-02-05 11:17:00\n",
       "80   2016-02-05 23:02:00\n",
       "81   2016-02-05 23:02:00\n",
       "82   2016-02-02 01:52:00\n",
       "Name: EVENT_DATETIME, Length: 83, dtype: datetime64[ns]"
      ]
     },
     "execution_count": 8,
     "metadata": {},
     "output_type": "execute_result"
    }
   ],
   "source": [
    "df['EVENT_DATETIME']"
   ]
  },
  {
   "cell_type": "code",
   "execution_count": 9,
   "id": "5b063fcc-a698-4627-851e-ce5a5876c09b",
   "metadata": {},
   "outputs": [],
   "source": [
    "columns_needed = [\n",
    "    'EVENT_DATETIME',\n",
    "    'ACFT_MAKE_NAME',\n",
    "    'LOC_STATE_NAME',\n",
    "    'ACFT_MODEL_NAME',\n",
    "    'RMK_TEXT',\n",
    "    'FLT_PHASE',\n",
    "    'EVENT_TYPE_DESC',\n",
    "    'FATAL_FLAG',\n",
    "    'ACFT_DMG_DESC'\n",
    "]\n",
    "new_df = df[columns_needed].copy()"
   ]
  },
  {
   "cell_type": "code",
   "execution_count": 10,
   "id": "bee17cd8-5b8c-44f5-85c0-c7614aa6b62b",
   "metadata": {},
   "outputs": [
    {
     "name": "stdout",
     "output_type": "stream",
     "text": [
      "<class 'pandas.core.frame.DataFrame'>\n",
      "RangeIndex: 83 entries, 0 to 82\n",
      "Data columns (total 9 columns):\n",
      " #   Column           Non-Null Count  Dtype         \n",
      "---  ------           --------------  -----         \n",
      " 0   EVENT_DATETIME   83 non-null     datetime64[ns]\n",
      " 1   ACFT_MAKE_NAME   78 non-null     object        \n",
      " 2   LOC_STATE_NAME   83 non-null     object        \n",
      " 3   ACFT_MODEL_NAME  79 non-null     object        \n",
      " 4   RMK_TEXT         83 non-null     object        \n",
      " 5   FLT_PHASE        82 non-null     object        \n",
      " 6   EVENT_TYPE_DESC  83 non-null     object        \n",
      " 7   FATAL_FLAG       8 non-null      object        \n",
      " 8   ACFT_DMG_DESC    74 non-null     object        \n",
      "dtypes: datetime64[ns](1), object(8)\n",
      "memory usage: 6.0+ KB\n"
     ]
    },
    {
     "data": {
      "text/html": [
       "<div>\n",
       "<style scoped>\n",
       "    .dataframe tbody tr th:only-of-type {\n",
       "        vertical-align: middle;\n",
       "    }\n",
       "\n",
       "    .dataframe tbody tr th {\n",
       "        vertical-align: top;\n",
       "    }\n",
       "\n",
       "    .dataframe thead th {\n",
       "        text-align: right;\n",
       "    }\n",
       "</style>\n",
       "<table border=\"1\" class=\"dataframe\">\n",
       "  <thead>\n",
       "    <tr style=\"text-align: right;\">\n",
       "      <th></th>\n",
       "      <th>EVENT_DATETIME</th>\n",
       "      <th>ACFT_MAKE_NAME</th>\n",
       "      <th>LOC_STATE_NAME</th>\n",
       "      <th>ACFT_MODEL_NAME</th>\n",
       "      <th>RMK_TEXT</th>\n",
       "      <th>FLT_PHASE</th>\n",
       "      <th>EVENT_TYPE_DESC</th>\n",
       "      <th>FATAL_FLAG</th>\n",
       "      <th>ACFT_DMG_DESC</th>\n",
       "    </tr>\n",
       "  </thead>\n",
       "  <tbody>\n",
       "    <tr>\n",
       "      <th>0</th>\n",
       "      <td>2016-02-19 00:45:00</td>\n",
       "      <td>BEECH</td>\n",
       "      <td>North Carolina</td>\n",
       "      <td>36</td>\n",
       "      <td>AIRCRAFT CRASHED INTO TREES, THE 1 PERSON ON B...</td>\n",
       "      <td>UNKNOWN (UNK)</td>\n",
       "      <td>Accident</td>\n",
       "      <td>Yes</td>\n",
       "      <td>Unknown</td>\n",
       "    </tr>\n",
       "    <tr>\n",
       "      <th>1</th>\n",
       "      <td>2016-02-18 23:55:00</td>\n",
       "      <td>VANS</td>\n",
       "      <td>Florida</td>\n",
       "      <td>RV7</td>\n",
       "      <td>AIRCRAFT ON LANDING WENT OFF THE END OF THE RU...</td>\n",
       "      <td>LANDING (LDG)</td>\n",
       "      <td>Incident</td>\n",
       "      <td>NaN</td>\n",
       "      <td>Unknown</td>\n",
       "    </tr>\n",
       "    <tr>\n",
       "      <th>2</th>\n",
       "      <td>2016-02-18 22:14:00</td>\n",
       "      <td>CESSNA</td>\n",
       "      <td>New Jersey</td>\n",
       "      <td>172</td>\n",
       "      <td>AIRCRAFT ON FINAL SUSTAINED A BIRD STRIKE, LAN...</td>\n",
       "      <td>APPROACH (APR)</td>\n",
       "      <td>Incident</td>\n",
       "      <td>NaN</td>\n",
       "      <td>Minor</td>\n",
       "    </tr>\n",
       "    <tr>\n",
       "      <th>3</th>\n",
       "      <td>2016-02-18 17:10:00</td>\n",
       "      <td>LANCAIR</td>\n",
       "      <td>North Carolina</td>\n",
       "      <td>235</td>\n",
       "      <td>AIRCRAFT ON LANDING, GEAR COLLAPSED, ASHEVILLE...</td>\n",
       "      <td>LANDING (LDG)</td>\n",
       "      <td>Incident</td>\n",
       "      <td>NaN</td>\n",
       "      <td>Unknown</td>\n",
       "    </tr>\n",
       "    <tr>\n",
       "      <th>4</th>\n",
       "      <td>2016-02-18 00:26:00</td>\n",
       "      <td>CESSNA</td>\n",
       "      <td>Alaska</td>\n",
       "      <td>172</td>\n",
       "      <td>AIRCRAFT ON LANDING, NOSE GEAR COLLAPSED, TALK...</td>\n",
       "      <td>LANDING (LDG)</td>\n",
       "      <td>Incident</td>\n",
       "      <td>NaN</td>\n",
       "      <td>Minor</td>\n",
       "    </tr>\n",
       "  </tbody>\n",
       "</table>\n",
       "</div>"
      ],
      "text/plain": [
       "       EVENT_DATETIME ACFT_MAKE_NAME  LOC_STATE_NAME ACFT_MODEL_NAME  \\\n",
       "0 2016-02-19 00:45:00          BEECH  North Carolina              36   \n",
       "1 2016-02-18 23:55:00           VANS         Florida             RV7   \n",
       "2 2016-02-18 22:14:00         CESSNA      New Jersey             172   \n",
       "3 2016-02-18 17:10:00        LANCAIR  North Carolina             235   \n",
       "4 2016-02-18 00:26:00         CESSNA          Alaska             172   \n",
       "\n",
       "                                            RMK_TEXT       FLT_PHASE  \\\n",
       "0  AIRCRAFT CRASHED INTO TREES, THE 1 PERSON ON B...   UNKNOWN (UNK)   \n",
       "1  AIRCRAFT ON LANDING WENT OFF THE END OF THE RU...   LANDING (LDG)   \n",
       "2  AIRCRAFT ON FINAL SUSTAINED A BIRD STRIKE, LAN...  APPROACH (APR)   \n",
       "3  AIRCRAFT ON LANDING, GEAR COLLAPSED, ASHEVILLE...   LANDING (LDG)   \n",
       "4  AIRCRAFT ON LANDING, NOSE GEAR COLLAPSED, TALK...   LANDING (LDG)   \n",
       "\n",
       "  EVENT_TYPE_DESC FATAL_FLAG ACFT_DMG_DESC  \n",
       "0        Accident        Yes       Unknown  \n",
       "1        Incident        NaN       Unknown  \n",
       "2        Incident        NaN         Minor  \n",
       "3        Incident        NaN       Unknown  \n",
       "4        Incident        NaN         Minor  "
      ]
     },
     "execution_count": 10,
     "metadata": {},
     "output_type": "execute_result"
    }
   ],
   "source": [
    "new_df.info()\n",
    "new_df.head()"
   ]
  },
  {
   "cell_type": "code",
   "execution_count": 11,
   "id": "ca5e8723-8a7f-4118-a3e8-a8408a6f44e1",
   "metadata": {},
   "outputs": [
    {
     "data": {
      "text/plain": [
       "0     Yes\n",
       "1      No\n",
       "2      No\n",
       "3      No\n",
       "4      No\n",
       "     ... \n",
       "78     No\n",
       "79    Yes\n",
       "80    Yes\n",
       "81    Yes\n",
       "82    Yes\n",
       "Name: FATAL_FLAG, Length: 83, dtype: object"
      ]
     },
     "execution_count": 11,
     "metadata": {},
     "output_type": "execute_result"
    }
   ],
   "source": [
    "new_df['FATAL_FLAG'] = new_df['FATAL_FLAG'].fillna('No')\n",
    "new_df['FATAL_FLAG']"
   ]
  },
  {
   "cell_type": "code",
   "execution_count": 13,
   "id": "c695b5a2-1926-479a-a521-e08f500ed47c",
   "metadata": {},
   "outputs": [
    {
     "data": {
      "text/plain": [
       "0    LANDING (LDG)\n",
       "Name: FLT_PHASE, dtype: object"
      ]
     },
     "execution_count": 13,
     "metadata": {},
     "output_type": "execute_result"
    }
   ],
   "source": [
    "fill = new_df['FLT_PHASE'].mode()\n",
    "fill"
   ]
  },
  {
   "cell_type": "code",
   "execution_count": 15,
   "id": "774ebe3a-f6d1-47fb-9f73-cbb785478362",
   "metadata": {},
   "outputs": [
    {
     "data": {
      "text/plain": [
       "'LANDING (LDG)'"
      ]
     },
     "execution_count": 15,
     "metadata": {},
     "output_type": "execute_result"
    }
   ],
   "source": [
    "mode = fill[0]\n",
    "mode"
   ]
  },
  {
   "cell_type": "code",
   "execution_count": 16,
   "id": "ce91b33c-6513-4b99-85dc-202a73170e49",
   "metadata": {},
   "outputs": [],
   "source": [
    "new_df['FLT_PHASE'] = new_df['FLT_PHASE'].fillna(mode)\n",
    "fill1 = new_df['ACFT_DMG_DESC'].mode()\n",
    "mode1 = fill1[0]\n",
    "new_df['ACFT_DMG_DESC'] = new_df['ACFT_DMG_DESC'].fillna(mode1)"
   ]
  },
  {
   "cell_type": "code",
   "execution_count": 19,
   "id": "647bfafa-7cbd-448f-9900-fa49182c8b45",
   "metadata": {},
   "outputs": [
    {
     "name": "stdout",
     "output_type": "stream",
     "text": [
      "(77, 9)\n"
     ]
    },
    {
     "data": {
      "text/plain": [
       "(77, 9)"
      ]
     },
     "execution_count": 19,
     "metadata": {},
     "output_type": "execute_result"
    }
   ],
   "source": [
    "#print(new_df.shape)\n",
    "new_df.dropna(subset=['ACFT_MAKE_NAME', 'ACFT_MODEL_NAME'], inplace=True)\n",
    "new_df.shape"
   ]
  },
  {
   "cell_type": "code",
   "execution_count": 20,
   "id": "4a070280-44f6-433e-8991-46ffec235999",
   "metadata": {},
   "outputs": [
    {
     "data": {
      "text/plain": [
       "EVENT_DATETIME     0\n",
       "ACFT_MAKE_NAME     0\n",
       "LOC_STATE_NAME     0\n",
       "ACFT_MODEL_NAME    0\n",
       "RMK_TEXT           0\n",
       "FLT_PHASE          0\n",
       "EVENT_TYPE_DESC    0\n",
       "FATAL_FLAG         0\n",
       "ACFT_DMG_DESC      0\n",
       "dtype: int64"
      ]
     },
     "execution_count": 20,
     "metadata": {},
     "output_type": "execute_result"
    }
   ],
   "source": [
    "new_df.isnull().sum()"
   ]
  },
  {
   "cell_type": "code",
   "execution_count": 21,
   "id": "2219ab53-74f7-40b4-b5f1-ae9c9e3ba6b8",
   "metadata": {},
   "outputs": [
    {
     "name": "stdout",
     "output_type": "stream",
     "text": [
      "ACFT_MAKE_NAME\n",
      "CESSNA                    23\n",
      "PIPER                     10\n",
      "BEECH                      9\n",
      "MOONEY                     4\n",
      "BOEING                     3\n",
      "BELL                       2\n",
      "CHAMPION                   2\n",
      "SOCATA                     2\n",
      "LANCAIR                    2\n",
      "GLOBE                      1\n",
      "VANS                       1\n",
      "CHRISTEN                   1\n",
      "HUGHES                     1\n",
      "FAIRCHILD                  1\n",
      "CONSOLIDATED VULTEE        1\n",
      "GREAT LAKES                1\n",
      "SAAB                       1\n",
      "MAULE                      1\n",
      "EMBRAER                    1\n",
      "PITTS                      1\n",
      "AEROSTAR INTERNATIONAL     1\n",
      "AIRBUS                     1\n",
      "GRUMMAN                    1\n",
      "GULFSTREAM                 1\n",
      "FLIGHT DESIGN              1\n",
      "AERO COMMANDER             1\n",
      "SABRELINER                 1\n",
      "AERONCA                    1\n",
      "NORTH AMERICAN             1\n",
      "Name: count, dtype: int64\n"
     ]
    }
   ],
   "source": [
    "airplane_name = new_df['ACFT_MAKE_NAME'].value_counts()\n",
    "print(airplane_name)"
   ]
  },
  {
   "cell_type": "code",
   "execution_count": 22,
   "id": "d40b0a0b-bbca-4f63-ab02-26a1336e5b9c",
   "metadata": {},
   "outputs": [
    {
     "name": "stdout",
     "output_type": "stream",
     "text": [
      "        EVENT_DATETIME  ACFT_MAKE_NAME  LOC_STATE_NAME ACFT_MODEL_NAME  \\\n",
      "0  2016-02-19 00:45:00           BEECH  North Carolina              36   \n",
      "53 2016-02-11 11:32:00           PIPER         Florida            PA28   \n",
      "55 2016-02-11 00:17:00   FLIGHT DESIGN      California            CTLS   \n",
      "79 2016-02-05 11:17:00  NORTH AMERICAN         Arizona             F51   \n",
      "80 2016-02-05 23:02:00        CHAMPION      California           8KCAB   \n",
      "81 2016-02-05 23:02:00           BEECH      California              35   \n",
      "82 2016-02-02 01:52:00          CESSNA         Alabama             182   \n",
      "\n",
      "                                             RMK_TEXT      FLT_PHASE  \\\n",
      "0   AIRCRAFT CRASHED INTO TREES, THE 1 PERSON ON B...  UNKNOWN (UNK)   \n",
      "53  AIRCRAFT CRASHED UNDER UNKNOWN CIRCUMSTANCES. ...  UNKNOWN (UNK)   \n",
      "55  AIRCRAFT CRASHED UNDER UNKNOWN CIRCUMSTANCES A...  UNKNOWN (UNK)   \n",
      "79  AIRCRAFT CRASHED UNDER UNKNOWN CIRCUMSTANCES, ...  UNKNOWN (UNK)   \n",
      "80  N9872R, BEECH M35 AIRCRAFT, AND N5057G, BELLAN...  UNKNOWN (UNK)   \n",
      "81  N9872R, BEECH M35 AIRCRAFT, AND N5057G, BELLAN...  UNKNOWN (UNK)   \n",
      "82  N784CP AIRCRAFT CRASHED INTO A WOODED AREA NEA...  UNKNOWN (UNK)   \n",
      "\n",
      "   EVENT_TYPE_DESC FATAL_FLAG ACFT_DMG_DESC  \n",
      "0         Accident        Yes       Unknown  \n",
      "53        Accident        Yes     Destroyed  \n",
      "55        Accident        Yes     Destroyed  \n",
      "79        Accident        Yes     Destroyed  \n",
      "80        Accident        Yes     Destroyed  \n",
      "81        Accident        Yes     Destroyed  \n",
      "82        Accident        Yes       Unknown  \n"
     ]
    }
   ],
   "source": [
    "fatal_obs = new_df[new_df['FATAL_FLAG'] == 'Yes']\n",
    "print(fatal_obs)"
   ]
  },
  {
   "cell_type": "code",
   "execution_count": 23,
   "id": "b21e2528-9c7d-4458-b2e3-f464fcdd8e38",
   "metadata": {},
   "outputs": [
    {
     "name": "stdout",
     "output_type": "stream",
     "text": [
      "7\n"
     ]
    }
   ],
   "source": [
    "print(len(fatal_obs))\n"
   ]
  },
  {
   "cell_type": "code",
   "execution_count": 24,
   "id": "cd0ec4e8-d627-4397-8533-550952ff06e4",
   "metadata": {},
   "outputs": [
    {
     "name": "stdout",
     "output_type": "stream",
     "text": [
      "['Unknown' 'Minor' 'Substantial' 'Destroyed']\n"
     ]
    }
   ],
   "source": [
    "unique_cateogery = new_df['ACFT_DMG_DESC'].unique()\n",
    "print(unique_cateogery)"
   ]
  },
  {
   "cell_type": "code",
   "execution_count": 27,
   "id": "dda7de54-6530-4e6d-8a5c-45014d4ed548",
   "metadata": {},
   "outputs": [],
   "source": [
    "for cat in unique_cateogery:\n",
    "    col_name = f\"DMG_{cat}\"\n",
    "    new_df[col_name] = (new_df['ACFT_DMG_DESC'] == cat).astype(int)\n"
   ]
  },
  {
   "cell_type": "code",
   "execution_count": 28,
   "id": "e9bcb6ad-0029-428e-9e81-b083f76a8a60",
   "metadata": {},
   "outputs": [
    {
     "data": {
      "text/html": [
       "<div>\n",
       "<style scoped>\n",
       "    .dataframe tbody tr th:only-of-type {\n",
       "        vertical-align: middle;\n",
       "    }\n",
       "\n",
       "    .dataframe tbody tr th {\n",
       "        vertical-align: top;\n",
       "    }\n",
       "\n",
       "    .dataframe thead th {\n",
       "        text-align: right;\n",
       "    }\n",
       "</style>\n",
       "<table border=\"1\" class=\"dataframe\">\n",
       "  <thead>\n",
       "    <tr style=\"text-align: right;\">\n",
       "      <th></th>\n",
       "      <th>EVENT_DATETIME</th>\n",
       "      <th>ACFT_MAKE_NAME</th>\n",
       "      <th>LOC_STATE_NAME</th>\n",
       "      <th>ACFT_MODEL_NAME</th>\n",
       "      <th>RMK_TEXT</th>\n",
       "      <th>FLT_PHASE</th>\n",
       "      <th>EVENT_TYPE_DESC</th>\n",
       "      <th>FATAL_FLAG</th>\n",
       "      <th>ACFT_DMG_DESC</th>\n",
       "      <th>DMG_Unknown</th>\n",
       "      <th>DMG_Minor</th>\n",
       "      <th>DMG_Substantial</th>\n",
       "      <th>DMG_Destroyed</th>\n",
       "    </tr>\n",
       "  </thead>\n",
       "  <tbody>\n",
       "    <tr>\n",
       "      <th>0</th>\n",
       "      <td>2016-02-19 00:45:00</td>\n",
       "      <td>BEECH</td>\n",
       "      <td>North Carolina</td>\n",
       "      <td>36</td>\n",
       "      <td>AIRCRAFT CRASHED INTO TREES, THE 1 PERSON ON B...</td>\n",
       "      <td>UNKNOWN (UNK)</td>\n",
       "      <td>Accident</td>\n",
       "      <td>Yes</td>\n",
       "      <td>Unknown</td>\n",
       "      <td>1</td>\n",
       "      <td>0</td>\n",
       "      <td>0</td>\n",
       "      <td>0</td>\n",
       "    </tr>\n",
       "    <tr>\n",
       "      <th>1</th>\n",
       "      <td>2016-02-18 23:55:00</td>\n",
       "      <td>VANS</td>\n",
       "      <td>Florida</td>\n",
       "      <td>RV7</td>\n",
       "      <td>AIRCRAFT ON LANDING WENT OFF THE END OF THE RU...</td>\n",
       "      <td>LANDING (LDG)</td>\n",
       "      <td>Incident</td>\n",
       "      <td>No</td>\n",
       "      <td>Unknown</td>\n",
       "      <td>1</td>\n",
       "      <td>0</td>\n",
       "      <td>0</td>\n",
       "      <td>0</td>\n",
       "    </tr>\n",
       "    <tr>\n",
       "      <th>2</th>\n",
       "      <td>2016-02-18 22:14:00</td>\n",
       "      <td>CESSNA</td>\n",
       "      <td>New Jersey</td>\n",
       "      <td>172</td>\n",
       "      <td>AIRCRAFT ON FINAL SUSTAINED A BIRD STRIKE, LAN...</td>\n",
       "      <td>APPROACH (APR)</td>\n",
       "      <td>Incident</td>\n",
       "      <td>No</td>\n",
       "      <td>Minor</td>\n",
       "      <td>0</td>\n",
       "      <td>1</td>\n",
       "      <td>0</td>\n",
       "      <td>0</td>\n",
       "    </tr>\n",
       "    <tr>\n",
       "      <th>3</th>\n",
       "      <td>2016-02-18 17:10:00</td>\n",
       "      <td>LANCAIR</td>\n",
       "      <td>North Carolina</td>\n",
       "      <td>235</td>\n",
       "      <td>AIRCRAFT ON LANDING, GEAR COLLAPSED, ASHEVILLE...</td>\n",
       "      <td>LANDING (LDG)</td>\n",
       "      <td>Incident</td>\n",
       "      <td>No</td>\n",
       "      <td>Unknown</td>\n",
       "      <td>1</td>\n",
       "      <td>0</td>\n",
       "      <td>0</td>\n",
       "      <td>0</td>\n",
       "    </tr>\n",
       "    <tr>\n",
       "      <th>4</th>\n",
       "      <td>2016-02-18 00:26:00</td>\n",
       "      <td>CESSNA</td>\n",
       "      <td>Alaska</td>\n",
       "      <td>172</td>\n",
       "      <td>AIRCRAFT ON LANDING, NOSE GEAR COLLAPSED, TALK...</td>\n",
       "      <td>LANDING (LDG)</td>\n",
       "      <td>Incident</td>\n",
       "      <td>No</td>\n",
       "      <td>Minor</td>\n",
       "      <td>0</td>\n",
       "      <td>1</td>\n",
       "      <td>0</td>\n",
       "      <td>0</td>\n",
       "    </tr>\n",
       "  </tbody>\n",
       "</table>\n",
       "</div>"
      ],
      "text/plain": [
       "       EVENT_DATETIME ACFT_MAKE_NAME  LOC_STATE_NAME ACFT_MODEL_NAME  \\\n",
       "0 2016-02-19 00:45:00          BEECH  North Carolina              36   \n",
       "1 2016-02-18 23:55:00           VANS         Florida             RV7   \n",
       "2 2016-02-18 22:14:00         CESSNA      New Jersey             172   \n",
       "3 2016-02-18 17:10:00        LANCAIR  North Carolina             235   \n",
       "4 2016-02-18 00:26:00         CESSNA          Alaska             172   \n",
       "\n",
       "                                            RMK_TEXT       FLT_PHASE  \\\n",
       "0  AIRCRAFT CRASHED INTO TREES, THE 1 PERSON ON B...   UNKNOWN (UNK)   \n",
       "1  AIRCRAFT ON LANDING WENT OFF THE END OF THE RU...   LANDING (LDG)   \n",
       "2  AIRCRAFT ON FINAL SUSTAINED A BIRD STRIKE, LAN...  APPROACH (APR)   \n",
       "3  AIRCRAFT ON LANDING, GEAR COLLAPSED, ASHEVILLE...   LANDING (LDG)   \n",
       "4  AIRCRAFT ON LANDING, NOSE GEAR COLLAPSED, TALK...   LANDING (LDG)   \n",
       "\n",
       "  EVENT_TYPE_DESC FATAL_FLAG ACFT_DMG_DESC  DMG_Unknown  DMG_Minor  \\\n",
       "0        Accident        Yes       Unknown            1          0   \n",
       "1        Incident         No       Unknown            1          0   \n",
       "2        Incident         No         Minor            0          1   \n",
       "3        Incident         No       Unknown            1          0   \n",
       "4        Incident         No         Minor            0          1   \n",
       "\n",
       "   DMG_Substantial  DMG_Destroyed  \n",
       "0                0              0  \n",
       "1                0              0  \n",
       "2                0              0  \n",
       "3                0              0  \n",
       "4                0              0  "
      ]
     },
     "execution_count": 28,
     "metadata": {},
     "output_type": "execute_result"
    }
   ],
   "source": [
    "new_df[0:5]"
   ]
  },
  {
   "cell_type": "code",
   "execution_count": 29,
   "id": "bb5e8a51-ed6d-421b-b876-cfb80f952de1",
   "metadata": {},
   "outputs": [],
   "source": [
    "new_df.drop(columns=[f\"DMG_Unknown\"], inplace=True)"
   ]
  },
  {
   "cell_type": "code",
   "execution_count": 30,
   "id": "eab11e7e-fb7c-44b1-a8f8-4752a47ab421",
   "metadata": {},
   "outputs": [],
   "source": [
    "def extract_phase(text):\n",
    "    if pd.isnull(text):\n",
    "        return 'UNKNOWN'\n",
    "    phases = ['LANDING', 'TAKEOFF', 'CRUISE', 'APPROACH']\n",
    "    for phase in phases:\n",
    "        if phase in text.upper():\n",
    "            return phase\n",
    "    return 'UNKNOWN'\n",
    "\n",
    "new_df['FLIGHT_PHASE_TEXT'] = new_df['RMK_TEXT'].apply(extract_phase)"
   ]
  },
  {
   "cell_type": "code",
   "execution_count": 31,
   "id": "db998896-8c16-46a1-829d-2137a999b864",
   "metadata": {},
   "outputs": [
    {
     "data": {
      "text/plain": [
       "0     UNKNOWN\n",
       "1     LANDING\n",
       "2     UNKNOWN\n",
       "3     LANDING\n",
       "4     LANDING\n",
       "       ...   \n",
       "78    LANDING\n",
       "79    UNKNOWN\n",
       "80    UNKNOWN\n",
       "81    UNKNOWN\n",
       "82    UNKNOWN\n",
       "Name: FLIGHT_PHASE_TEXT, Length: 77, dtype: object"
      ]
     },
     "execution_count": 31,
     "metadata": {},
     "output_type": "execute_result"
    }
   ],
   "source": [
    "new_df['FLIGHT_PHASE_TEXT']"
   ]
  },
  {
   "cell_type": "code",
   "execution_count": 32,
   "id": "2ff9bcc6-d7ac-49a0-bc37-2528749880cc",
   "metadata": {},
   "outputs": [
    {
     "name": "stdout",
     "output_type": "stream",
     "text": [
      "    Original_Phase Text_Phase\n",
      "0    UNKNOWN (UNK)    UNKNOWN\n",
      "1    LANDING (LDG)    LANDING\n",
      "2   APPROACH (APR)    UNKNOWN\n",
      "3    LANDING (LDG)    LANDING\n",
      "4    LANDING (LDG)    LANDING\n",
      "5    UNKNOWN (UNK)    UNKNOWN\n",
      "6    LANDING (LDG)    LANDING\n",
      "7    LANDING (LDG)    LANDING\n",
      "8    TAKEOFF (TOF)    UNKNOWN\n",
      "10   LANDING (LDG)    LANDING\n",
      "12   LANDING (LDG)    LANDING\n",
      "13   LANDING (LDG)    LANDING\n",
      "14   TAKEOFF (TOF)    TAKEOFF\n",
      "15   LANDING (LDG)    UNKNOWN\n",
      "16   TAKEOFF (TOF)    TAKEOFF\n",
      "17   LANDING (LDG)    LANDING\n",
      "18   TAKEOFF (TOF)    UNKNOWN\n",
      "19   LANDING (LDG)    LANDING\n",
      "20   LANDING (LDG)    LANDING\n",
      "21   UNKNOWN (UNK)    UNKNOWN\n"
     ]
    }
   ],
   "source": [
    "comparison = pd.DataFrame({\n",
    "    'Original_Phase': new_df['FLT_PHASE'],\n",
    "    'Text_Phase': new_df['FLIGHT_PHASE_TEXT']\n",
    "})\n",
    "print(comparison.head(20))\n"
   ]
  },
  {
   "cell_type": "code",
   "execution_count": null,
   "id": "0d28d1b7-2e2c-4780-9961-14821c1b3c3b",
   "metadata": {},
   "outputs": [],
   "source": []
  }
 ],
 "metadata": {
  "kernelspec": {
   "display_name": "Python 3 (ipykernel)",
   "language": "python",
   "name": "python3"
  },
  "language_info": {
   "codemirror_mode": {
    "name": "ipython",
    "version": 3
   },
   "file_extension": ".py",
   "mimetype": "text/x-python",
   "name": "python",
   "nbconvert_exporter": "python",
   "pygments_lexer": "ipython3",
   "version": "3.12.3"
  }
 },
 "nbformat": 4,
 "nbformat_minor": 5
}
