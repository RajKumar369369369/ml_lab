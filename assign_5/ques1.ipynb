{
 "cells": [
  {
   "cell_type": "code",
   "execution_count": 9,
   "id": "ce8de0f5-5b48-49bb-81b5-16836f96459a",
   "metadata": {},
   "outputs": [
    {
     "data": {
      "text/html": [
       "<div>\n",
       "<style scoped>\n",
       "    .dataframe tbody tr th:only-of-type {\n",
       "        vertical-align: middle;\n",
       "    }\n",
       "\n",
       "    .dataframe tbody tr th {\n",
       "        vertical-align: top;\n",
       "    }\n",
       "\n",
       "    .dataframe thead th {\n",
       "        text-align: right;\n",
       "    }\n",
       "</style>\n",
       "<table border=\"1\" class=\"dataframe\">\n",
       "  <thead>\n",
       "    <tr style=\"text-align: right;\">\n",
       "      <th></th>\n",
       "      <th>Id</th>\n",
       "      <th>SepalLengthCm</th>\n",
       "      <th>SepalWidthCm</th>\n",
       "      <th>PetalLengthCm</th>\n",
       "      <th>PetalWidthCm</th>\n",
       "      <th>Species</th>\n",
       "    </tr>\n",
       "  </thead>\n",
       "  <tbody>\n",
       "    <tr>\n",
       "      <th>0</th>\n",
       "      <td>1</td>\n",
       "      <td>5.1</td>\n",
       "      <td>3.5</td>\n",
       "      <td>1.4</td>\n",
       "      <td>0.2</td>\n",
       "      <td>Iris-setosa</td>\n",
       "    </tr>\n",
       "    <tr>\n",
       "      <th>1</th>\n",
       "      <td>2</td>\n",
       "      <td>4.9</td>\n",
       "      <td>3.0</td>\n",
       "      <td>1.4</td>\n",
       "      <td>0.2</td>\n",
       "      <td>Iris-setosa</td>\n",
       "    </tr>\n",
       "    <tr>\n",
       "      <th>2</th>\n",
       "      <td>3</td>\n",
       "      <td>4.7</td>\n",
       "      <td>3.2</td>\n",
       "      <td>1.3</td>\n",
       "      <td>0.2</td>\n",
       "      <td>Iris-setosa</td>\n",
       "    </tr>\n",
       "    <tr>\n",
       "      <th>3</th>\n",
       "      <td>4</td>\n",
       "      <td>4.6</td>\n",
       "      <td>3.1</td>\n",
       "      <td>1.5</td>\n",
       "      <td>0.2</td>\n",
       "      <td>Iris-setosa</td>\n",
       "    </tr>\n",
       "    <tr>\n",
       "      <th>4</th>\n",
       "      <td>5</td>\n",
       "      <td>5.0</td>\n",
       "      <td>3.6</td>\n",
       "      <td>1.4</td>\n",
       "      <td>0.2</td>\n",
       "      <td>Iris-setosa</td>\n",
       "    </tr>\n",
       "  </tbody>\n",
       "</table>\n",
       "</div>"
      ],
      "text/plain": [
       "   Id  SepalLengthCm  SepalWidthCm  PetalLengthCm  PetalWidthCm      Species\n",
       "0   1            5.1           3.5            1.4           0.2  Iris-setosa\n",
       "1   2            4.9           3.0            1.4           0.2  Iris-setosa\n",
       "2   3            4.7           3.2            1.3           0.2  Iris-setosa\n",
       "3   4            4.6           3.1            1.5           0.2  Iris-setosa\n",
       "4   5            5.0           3.6            1.4           0.2  Iris-setosa"
      ]
     },
     "execution_count": 9,
     "metadata": {},
     "output_type": "execute_result"
    }
   ],
   "source": [
    "import numpy as np\n",
    "import pandas as pd\n",
    "df=pd.read_csv(r\"D:\\PycharmProjects\\pythonProject\\U23AI113\\ML_lAB\\LAB_5\\archive (5)\\Iris.csv\")\n",
    "df.head()"
   ]
  },
  {
   "cell_type": "code",
   "execution_count": 10,
   "id": "1ea8cbdf-acd5-4f35-9516-1aba62ff1d05",
   "metadata": {},
   "outputs": [
    {
     "data": {
      "text/plain": [
       "array(['Iris-setosa', 'Iris-versicolor', 'Iris-virginica'], dtype=object)"
      ]
     },
     "execution_count": 10,
     "metadata": {},
     "output_type": "execute_result"
    }
   ],
   "source": [
    "df['Species'].unique()"
   ]
  },
  {
   "cell_type": "code",
   "execution_count": 4,
   "id": "b3201565-2521-46ef-bba2-7ff5926140b8",
   "metadata": {},
   "outputs": [
    {
     "data": {
      "text/plain": [
       "(150, 6)"
      ]
     },
     "execution_count": 4,
     "metadata": {},
     "output_type": "execute_result"
    }
   ],
   "source": [
    "df.shape"
   ]
  },
  {
   "cell_type": "code",
   "execution_count": 11,
   "id": "95a078a0-930c-41f8-b9d8-37dae7569e96",
   "metadata": {},
   "outputs": [
    {
     "data": {
      "text/plain": [
       "0      0\n",
       "1      0\n",
       "2      0\n",
       "3      0\n",
       "4      0\n",
       "      ..\n",
       "145    2\n",
       "146    2\n",
       "147    2\n",
       "148    2\n",
       "149    2\n",
       "Name: Species, Length: 150, dtype: int64"
      ]
     },
     "execution_count": 11,
     "metadata": {},
     "output_type": "execute_result"
    }
   ],
   "source": [
    "species_map={\"Iris-setosa\":0, \"Iris-versicolor\":1, \"Iris-virginica\":2}\n",
    "df['Species']=df['Species'].map(species_map)\n",
    "#df['Species'].unique()\n",
    "df['Species']"
   ]
  },
  {
   "cell_type": "code",
   "execution_count": 39,
   "id": "6f84d0d1-0464-458d-8fe2-e025f27fb6b6",
   "metadata": {},
   "outputs": [
    {
     "data": {
      "text/plain": [
       "Species\n",
       "0    50\n",
       "1    50\n",
       "2    50\n",
       "Name: count, dtype: int64"
      ]
     },
     "execution_count": 39,
     "metadata": {},
     "output_type": "execute_result"
    }
   ],
   "source": [
    "df['Species'].value_counts()"
   ]
  },
  {
   "cell_type": "code",
   "execution_count": 13,
   "id": "1bdfa8c4-448d-4907-9b32-404f6bd7bea1",
   "metadata": {},
   "outputs": [
    {
     "data": {
      "text/plain": [
       "array([[5.1, 3.5, 1.4, 0.2],\n",
       "       [4.9, 3. , 1.4, 0.2],\n",
       "       [4.7, 3.2, 1.3, 0.2],\n",
       "       [4.6, 3.1, 1.5, 0.2],\n",
       "       [5. , 3.6, 1.4, 0.2]])"
      ]
     },
     "execution_count": 13,
     "metadata": {},
     "output_type": "execute_result"
    }
   ],
   "source": [
    "X = df.drop(columns=['Id','Species']).values\n",
    "X[:5]"
   ]
  },
  {
   "cell_type": "code",
   "execution_count": 14,
   "id": "d9f91777-6373-4dad-a223-cac08e6e49ad",
   "metadata": {},
   "outputs": [
    {
     "data": {
      "text/plain": [
       "array([5.84333333, 3.054     , 3.75866667, 1.19866667])"
      ]
     },
     "execution_count": 14,
     "metadata": {},
     "output_type": "execute_result"
    }
   ],
   "source": [
    "mean=X.mean(axis=0)\n",
    "mean"
   ]
  },
  {
   "cell_type": "code",
   "execution_count": 15,
   "id": "8a7db558-e2f6-4c30-8cfa-e88c708c3582",
   "metadata": {},
   "outputs": [
    {
     "data": {
      "text/plain": [
       "array([0.82530129, 0.43214658, 1.75852918, 0.76061262])"
      ]
     },
     "execution_count": 15,
     "metadata": {},
     "output_type": "execute_result"
    }
   ],
   "source": [
    "std=X.std(axis=0)\n",
    "std"
   ]
  },
  {
   "cell_type": "code",
   "execution_count": 16,
   "id": "bc9d8e66-37fa-4fe2-bed4-1ca0539f80f0",
   "metadata": {},
   "outputs": [
    {
     "data": {
      "text/plain": [
       "array([[-0.90068117,  1.03205722, -1.3412724 , -1.31297673],\n",
       "       [-1.14301691, -0.1249576 , -1.3412724 , -1.31297673],\n",
       "       [-1.38535265,  0.33784833, -1.39813811, -1.31297673],\n",
       "       [-1.50652052,  0.10644536, -1.2844067 , -1.31297673],\n",
       "       [-1.02184904,  1.26346019, -1.3412724 , -1.31297673]])"
      ]
     },
     "execution_count": 16,
     "metadata": {},
     "output_type": "execute_result"
    }
   ],
   "source": [
    "X=(X-mean)/std\n",
    "X[:5]"
   ]
  },
  {
   "cell_type": "code",
   "execution_count": 20,
   "id": "6f62f955-cf4f-4b88-afd8-5f0ea2140c76",
   "metadata": {},
   "outputs": [
    {
     "data": {
      "text/plain": [
       "(150, 5)"
      ]
     },
     "execution_count": 20,
     "metadata": {},
     "output_type": "execute_result"
    }
   ],
   "source": [
    "c=np.ones((X.shape[0],1))\n",
    "c.shape\n",
    "X=np.hstack([c,X])\n",
    "X.shape"
   ]
  },
  {
   "cell_type": "code",
   "execution_count": 25,
   "id": "d7123c66-ce69-4cbd-b7ed-d1af466305a3",
   "metadata": {},
   "outputs": [
    {
     "data": {
      "text/plain": [
       "(150, 1)"
      ]
     },
     "execution_count": 25,
     "metadata": {},
     "output_type": "execute_result"
    }
   ],
   "source": [
    "y=df['Species'].values.reshape(X.shape[0],1)\n",
    "y.shape"
   ]
  },
  {
   "cell_type": "code",
   "execution_count": 26,
   "id": "5882dccf-ae06-4706-9e4d-c6f49b28b161",
   "metadata": {},
   "outputs": [
    {
     "name": "stdout",
     "output_type": "stream",
     "text": [
      "(120, 5)\n",
      "(120, 1)\n",
      "(15, 5)\n",
      "(15, 5)\n",
      "(15, 1)\n"
     ]
    }
   ],
   "source": [
    "def train_val_test_split(X,y,train_size,val_size,test_size,seed=113):\n",
    "    np.random.seed(seed)\n",
    "    indices=np.arange(len(X))\n",
    "    np.random.shuffle(indices)\n",
    "\n",
    "    n_total=len(X)\n",
    "    n_train=int(n_total*train_size)\n",
    "    n_val=int(n_total*val_size)\n",
    "\n",
    "    train=indices[:n_train]\n",
    "    val=indices[n_train:n_train+n_val]\n",
    "    test=indices[n_train+n_val:]\n",
    "    return X[train],y[train],X[val],y[val],X[test],y[test]\n",
    "\n",
    "X_train,y_train,X_val,y_val,X_test,y_test = train_val_test_split(X,y,0.8,0.1,0.1)\n",
    "print(X_train.shape)\n",
    "print(y_train.shape)\n",
    "print(X_val.shape)\n",
    "print(X_test.shape)\n",
    "print(y_test.shape)"
   ]
  },
  {
   "cell_type": "code",
   "execution_count": 32,
   "id": "320d2aff-886e-4b26-b68d-b9e571dbdb0c",
   "metadata": {},
   "outputs": [
    {
     "name": "stdout",
     "output_type": "stream",
     "text": [
      "Validation Accuracy (80:10:10): 0.8\n"
     ]
    }
   ],
   "source": [
    "class linear_regression:\n",
    "    def __init__(self,lr=0.01,epochs=100):\n",
    "        self.lr=lr\n",
    "        self.epochs=epochs\n",
    "\n",
    "    def fit(self,X,y):\n",
    "        n_samples,n_features = X.shape\n",
    "        self.weights=np.random.rand(n_features,1)\n",
    "\n",
    "        for _ in range(self.epochs):\n",
    "            y_pred=X@self.weights\n",
    "            error=y_pred-y\n",
    "            grad=(2/X.shape[0])*(X.T@error)\n",
    "            self.weights-=self.lr*grad\n",
    "      \n",
    "    def predict(self,X):\n",
    "        return X@self.weights\n",
    "\n",
    "    \n",
    "model=linear_regression(lr=0.01,epochs=100)\n",
    "model.fit(X_train,y_train)\n",
    "\n",
    "def to_class(pred):\n",
    "        if pred<0.5: return 0\n",
    "        elif pred<1.5: return 1\n",
    "        else: return 2\n",
    "\n",
    "y_predict_val= model.predict(X_val)\n",
    "y_predict_val_class = np.array([to_class(p) for p in y_predict_val])\n",
    "\n",
    "val_acc = np.mean(y_predict_val_class.reshape(-1,1) == y_val)\n",
    "print(\"Validation Accuracy (80:10:10):\", val_acc)"
   ]
  },
  {
   "cell_type": "code",
   "execution_count": 33,
   "id": "e72fe90f-675a-4920-a4fc-8f882b5eff86",
   "metadata": {},
   "outputs": [
    {
     "name": "stdout",
     "output_type": "stream",
     "text": [
      "Validation Accuracy (70:15:15): 0.9090909090909091\n"
     ]
    }
   ],
   "source": [
    "X_train,y_train,X_val,y_val,X_test,y_test = train_val_test_split(X,y,0.7,0.15,0.15)\n",
    "model2=linear_regression(lr=0.01,epochs=100)\n",
    "model2.fit(X_train,y_train)\n",
    "\n",
    "y_predict_val= model2.predict(X_val)\n",
    "y_predict_val_class = np.array([to_class(p) for p in y_predict_val])\n",
    "\n",
    "val_acc = np.mean(y_predict_val_class.reshape(-1,1) == y_val)\n",
    "print(\"Validation Accuracy (70:15:15):\", val_acc)"
   ]
  },
  {
   "cell_type": "code",
   "execution_count": null,
   "id": "639f41a5-2db2-4cbd-a436-4cb55f4739d8",
   "metadata": {},
   "outputs": [],
   "source": [
    "#task 2\n",
    "df=pd.read_csv(r\"D:\\PycharmProjects\\pythonProject\\U23AI113\\ML_lAB\\LAB_5\\archive (5)\\Iris.csv\")\n"
   ]
  }
 ],
 "metadata": {
  "kernelspec": {
   "display_name": "Python 3 (ipykernel)",
   "language": "python",
   "name": "python3"
  },
  "language_info": {
   "codemirror_mode": {
    "name": "ipython",
    "version": 3
   },
   "file_extension": ".py",
   "mimetype": "text/x-python",
   "name": "python",
   "nbconvert_exporter": "python",
   "pygments_lexer": "ipython3",
   "version": "3.12.3"
  }
 },
 "nbformat": 4,
 "nbformat_minor": 5
}
